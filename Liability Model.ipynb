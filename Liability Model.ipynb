{
 "cells": [
  {
   "cell_type": "markdown",
   "id": "64f441d9",
   "metadata": {},
   "source": [
    "Import Libraries"
   ]
  },
  {
   "cell_type": "code",
   "execution_count": null,
   "id": "9d1f9d4e",
   "metadata": {},
   "outputs": [],
   "source": [
    "import scipy as sp\n",
    "from scipy import optimize\n",
    "from scipy.optimize import fsolve\n",
    "from scipy import interpolate\n",
    "\n",
    "# Import pandas\n",
    "import pandas as pd\n",
    "\n",
    "# Import numpy\n",
    "import numpy as np\n",
    "from numpy import * \n",
    "from numpy.linalg import multi_dot\n",
    "import numpy_financial as npf\n",
    "\n",
    "# Plot settings\n",
    "import matplotlib\n",
    "import matplotlib.pyplot as plt\n",
    "matplotlib.rcParams['figure.figsize'] = 16, 8\n",
    "\n",
    "# Ignore warnings\n",
    "import warnings\n",
    "warnings.filterwarnings('ignore')\n",
    "\n",
    "# IBT or Pension or Retirement\n",
    "PLAN = 'IBT'\n",
    "\n",
    "UPS_Contr_Pctg = 0"
   ]
  },
  {
   "cell_type": "code",
   "execution_count": null,
   "id": "20ca1d75",
   "metadata": {},
   "outputs": [],
   "source": [
    "df_CF = pd.read_excel(\"2021_PBO_CF.xlsx\",sheet_name = \"PBO Cashflows Summary\", skiprows = [0,1,2], usecols=[0,1,2,3,4], na_values=[\"\"],index_col=0)\n",
    "#dataset.set_index('Year')\n",
    "df_CF"
   ]
  },
  {
   "cell_type": "code",
   "execution_count": null,
   "id": "ed2adb8b",
   "metadata": {},
   "outputs": [],
   "source": []
  },
  {
   "cell_type": "code",
   "execution_count": null,
   "id": "e281c26b",
   "metadata": {},
   "outputs": [],
   "source": [
    "df_CF = df_CF.divide(12)\n",
    "df_CF"
   ]
  },
  {
   "cell_type": "code",
   "execution_count": null,
   "id": "3424ad9a",
   "metadata": {},
   "outputs": [],
   "source": [
    "df=df_CF.copy()\n",
    "\n",
    "#set start date and end date\n",
    "start_date = df.index.min() - pd.DateOffset(day=0)\n",
    "end_date = df.index.max() + pd.DateOffset(day=31)\n",
    "\n",
    "#create new dataframe monthly index\n",
    "dates = pd.date_range(start_date, end_date, freq='M')\n",
    "dates.name = 'date'\n",
    "\n",
    "#reindex yearly dataframe to monthly dataframe\n",
    "df = df.reindex(dates, method='ffill')\n",
    "\n",
    "#export monthly dataframe to excel\n",
    "#filepath = 'monthly_data.xlsx'\n",
    "#writer = pd.ExcelWriter(filepath, engine='xlsxwriter')\n",
    "#df.to_excel(writer, sheet_name='data')\n",
    "#writer.save()\n",
    "df_CF = df\n",
    "df_CF"
   ]
  },
  {
   "cell_type": "code",
   "execution_count": null,
   "id": "353b7ded",
   "metadata": {},
   "outputs": [],
   "source": [
    "df_CF_add = pd.read_excel(\"2021 Liability Cash Flows.xlsx\",sheet_name = \"CF\", usecols=[0,1,2,3,4], na_values=[\"\"],index_col=0)\n",
    "#dataset.set_index('Year')\n",
    "df_CF_add"
   ]
  },
  {
   "cell_type": "code",
   "execution_count": null,
   "id": "3bf29ebe",
   "metadata": {},
   "outputs": [],
   "source": [
    "df_CF  = df_CF_add.append(df_CF)\n",
    "df_CF"
   ]
  },
  {
   "cell_type": "code",
   "execution_count": null,
   "id": "31abf160",
   "metadata": {},
   "outputs": [],
   "source": [
    "from itertools import count, takewhile\n",
    "def frange(start, stop, step):\n",
    "        return takewhile(lambda x: x< stop, count(start, step))\n",
    "t = list(frange((1/12), 79.41666666666, (1/12)))"
   ]
  },
  {
   "cell_type": "code",
   "execution_count": null,
   "id": "bb54626a",
   "metadata": {},
   "outputs": [],
   "source": [
    "df_t=pd.DataFrame(t)\n",
    "df_t"
   ]
  },
  {
   "cell_type": "code",
   "execution_count": null,
   "id": "2ceb354b",
   "metadata": {},
   "outputs": [],
   "source": [
    "df_CF['Time'] = df_t.values\n",
    "df_CF"
   ]
  },
  {
   "cell_type": "code",
   "execution_count": null,
   "id": "9cbfa2e3",
   "metadata": {},
   "outputs": [],
   "source": [
    "#IBT = df_CF[PLAN]\n",
    "#RP = df_CF[PLAN]\n",
    "CF = np.array(df_CF[PLAN])\n",
    "Time_CF = df_CF.index\n",
    "DF = np.array(df_CF['Time'])\n",
    "CF"
   ]
  },
  {
   "cell_type": "code",
   "execution_count": null,
   "id": "0464dcf1",
   "metadata": {},
   "outputs": [],
   "source": []
  },
  {
   "cell_type": "code",
   "execution_count": null,
   "id": "653e3008",
   "metadata": {},
   "outputs": [],
   "source": [
    "# from PyCurve.curve import Curve"
   ]
  },
  {
   "cell_type": "code",
   "execution_count": null,
   "id": "ff6d2feb",
   "metadata": {
    "scrolled": true
   },
   "outputs": [],
   "source": [
    "df_Raw_FTSE_YC = pd.read_excel(\"Raw FTSE Data.xlsx\",skiprows = [0,2],usecols = [*range(0, 145)], na_values=[\"\"])\n",
    "#dataset.set_index('Date')\n",
    "Raw_FTSE_YC = df_Raw_FTSE_YC.copy()\n",
    "#Raw_FTSE_YC = pd.DataFrame(Raw_FTSE_YC)\n",
    "#df_Raw_FTSE_YC.set_index('Date')\n",
    "col = Raw_FTSE_YC.columns\n",
    "Raw_FTSE_YC\n"
   ]
  },
  {
   "cell_type": "code",
   "execution_count": null,
   "id": "561ed821",
   "metadata": {},
   "outputs": [],
   "source": [
    "raw_liab_ibt_dict={}\n",
    "tr = Raw_FTSE_YC['Date']\n",
    "# list of raw (not interpolated) times to maturity\n",
    "yr = Raw_FTSE_YC[col] \n",
    "# list of raw (not interpolated) yields\n",
    "t = list(frange(0.5, 30.08, (1/12))) # interpolating in range 1..30 years\n",
    "\n",
    "for col in Raw_FTSE_YC.columns:\n",
    "    #print('col: {}'.format(col))\n",
    "    y = []\n",
    "    interp = sp.interpolate.interp1d(tr, Raw_FTSE_YC[col] , bounds_error=False, fill_value=sp.nan)\n",
    "#for col in Raw_FTSE_YC.columns:\n",
    "    #for col in FTSE_YC.columns:\n",
    "    for i in t:\n",
    "            value = float(interp(i))\n",
    "            if not sp.isnan(value): # Don't include out-of-range values\n",
    "                y.append(value)\n",
    "                End_Rate = [y[-1]] * 592\n",
    "                Beg_Rate = [y[0]] * 5\n",
    "            raw_liab_ibt_dict[col] = Beg_Rate + y + End_Rate\n",
    "raw_liab_ibt_dict[col]\n",
    "#curve = Curve(t,y)\n",
    "#print(\"curve.get_rate:{},curve.get_time:{}\".format(curve.get_rate,curve.get_time))\n",
    "#print(curve.get_rate)\n",
    "#print(curve.get_time)"
   ]
  },
  {
   "cell_type": "code",
   "execution_count": null,
   "id": "dcf93cab",
   "metadata": {},
   "outputs": [],
   "source": [
    "int_df = pd.DataFrame(raw_liab_ibt_dict)\n",
    "int_df = int_df.drop(['Date'], axis=1)\n",
    "int_df = int_df.iloc[:, ::-1]\n",
    "int_df"
   ]
  },
  {
   "cell_type": "code",
   "execution_count": null,
   "id": "ecb1de49",
   "metadata": {},
   "outputs": [],
   "source": [
    "liab_plan_dict={}\n",
    "for col in int_df.columns:\n",
    "    #print('col: {}'.format(col))\n",
    "    temp_pv=0\n",
    "    for j in range (0,len(Time_CF)):\n",
    "        temp_pv += (CF[j]/((1+int_df[col][j]/100)**DF[j]))\n",
    "    liab_plan_dict[col] = temp_pv\n",
    "len(liab_plan_dict)"
   ]
  },
  {
   "cell_type": "code",
   "execution_count": null,
   "id": "68261be7",
   "metadata": {},
   "outputs": [],
   "source": [
    "pv_df = pd.DataFrame(liab_plan_dict, index = ['Present Values']).transpose()\n",
    "col = pv_df.columns\n",
    "np.negative(pv_df['Present Values'][0])"
   ]
  },
  {
   "cell_type": "code",
   "execution_count": null,
   "id": "6fe00ba4",
   "metadata": {},
   "outputs": [],
   "source": [
    "Plan_Return_YC = np.zeros(len(liab_plan_dict)-1)\n",
    "#for j in range (0,len(Time_DR)):\n",
    "for i in range (0,len(liab_plan_dict)-1):\n",
    "    #print(i)\n",
    "#     print(IBT_Return_YC[i])\n",
    "    Plan_Return_YC[i] = ((pv_df['Present Values'][i+1])/pv_df['Present Values'][i])-1\n",
    "Plan_Return_YC"
   ]
  },
  {
   "cell_type": "code",
   "execution_count": null,
   "id": "8dd593a9",
   "metadata": {},
   "outputs": [],
   "source": [
    "Plan_Returns_YC = pd.DataFrame(Plan_Return_YC)\n",
    "#export monthly dataframe to excel\n",
    "filepath = (PLAN+ ' Liability Returns & PV.xlsx')\n",
    "writer = pd.ExcelWriter(filepath, engine='xlsxwriter')\n",
    "Plan_Returns_YC.to_excel(writer, sheet_name='returns')\n",
    "pv_df.to_excel(writer, sheet_name='pv')\n",
    "writer.save()"
   ]
  },
  {
   "cell_type": "code",
   "execution_count": null,
   "id": "6bc90a6f",
   "metadata": {},
   "outputs": [],
   "source": [
    "df_SC = pd.read_excel(\"2021_PBO_CF.xlsx\",sheet_name = \"Service Cost Cashflows Summary\", skiprows = [0,1,2], usecols=[0,1,2,3], na_values=[\"\"],index_col=0)\n",
    "#dataset.set_index('Year')?\n",
    "df_SC"
   ]
  },
  {
   "cell_type": "code",
   "execution_count": null,
   "id": "a380ecec",
   "metadata": {},
   "outputs": [],
   "source": [
    "df_SC = df_SC.divide(12)\n",
    "df_SC"
   ]
  },
  {
   "cell_type": "code",
   "execution_count": null,
   "id": "b329a028",
   "metadata": {},
   "outputs": [],
   "source": [
    "df=df_SC.copy()\n",
    "\n",
    "#set start date and end date\n",
    "start_date = df.index.min() - pd.DateOffset(day=0)\n",
    "end_date = df.index.max() + pd.DateOffset(day=31)\n",
    "\n",
    "#create new dataframe monthly index\n",
    "dates = pd.date_range(start_date, end_date, freq='M')\n",
    "dates.name = 'date'\n",
    "\n",
    "#reindex yearly dataframe to monthly dataframe\n",
    "df = df.reindex(dates, method='ffill')\n",
    "\n",
    "#export monthly dataframe to excel\n",
    "#filepath = 'monthly_data.xlsx'\n",
    "#writer = pd.ExcelWriter(filepath, engine='xlsxwriter')\n",
    "#df.to_excel(writer, sheet_name='data')\n",
    "#writer.save()\n",
    "df_SC = df\n",
    "df_SC"
   ]
  },
  {
   "cell_type": "code",
   "execution_count": null,
   "id": "bb428672",
   "metadata": {},
   "outputs": [],
   "source": [
    "df_SC_add = pd.read_excel(\"2021 Liability Cash Flows.xlsx\",sheet_name = \"SC\", usecols=[0,1,2,3,4], na_values=[\"\"],index_col=0)\n",
    "#dataset.set_index('Year')\n",
    "df_SC_add"
   ]
  },
  {
   "cell_type": "code",
   "execution_count": null,
   "id": "08fcabc7",
   "metadata": {},
   "outputs": [],
   "source": [
    "df_SC  = df_SC_add.append(df_SC)\n",
    "df_SC"
   ]
  },
  {
   "cell_type": "code",
   "execution_count": null,
   "id": "d6f99a66",
   "metadata": {},
   "outputs": [],
   "source": [
    "col_SC = df_SC.columns\n",
    "col_CF = df_CF.columns\n",
    "df_CF_Tot = UPS_Contr_Pctg*df_SC[col_SC] + df_CF[col_CF]\n",
    "df_CF_Tot"
   ]
  },
  {
   "cell_type": "code",
   "execution_count": null,
   "id": "04027ce7",
   "metadata": {},
   "outputs": [],
   "source": [
    "df_CF_Tot['Time'] = df_t.values\n",
    "df_CF_Tot"
   ]
  },
  {
   "cell_type": "code",
   "execution_count": null,
   "id": "add2f890",
   "metadata": {},
   "outputs": [],
   "source": [
    "CF_Tot = df_CF_Tot[PLAN]\n",
    "Time_CF_Tot = df_CF_Tot.index\n",
    "DF_Tot=df_CF_Tot['Time']"
   ]
  },
  {
   "cell_type": "code",
   "execution_count": null,
   "id": "e3e92c0b",
   "metadata": {},
   "outputs": [],
   "source": [
    "liab_plan_dict_tot={}\n",
    "for col in int_df.columns:\n",
    "    #print('col: {}'.format(col))\n",
    "    temp_pv=0\n",
    "    for j in range (0,len(Time_CF)):\n",
    "        temp_pv += (CF_Tot[j]/((1+int_df[col][j]/100)**DF_Tot[j]))\n",
    "    liab_plan_dict_tot[col] = temp_pv\n",
    "liab_plan_dict_tot\n"
   ]
  },
  {
   "cell_type": "code",
   "execution_count": null,
   "id": "28e5d440",
   "metadata": {},
   "outputs": [],
   "source": [
    "pv_df_tot = pd.DataFrame(liab_plan_dict_tot, index = ['Present Values']).transpose()\n",
    "\n",
    "pv_df_tot"
   ]
  },
  {
   "cell_type": "code",
   "execution_count": null,
   "id": "d78aad62",
   "metadata": {},
   "outputs": [],
   "source": [
    "Plan_Return_YC_Tot = np.zeros(len(liab_plan_dict_tot)-1)\n",
    "#for j in range (0,len(Time_DR)):\n",
    "for i in range (0,len(liab_plan_dict_tot)-1):\n",
    "    #print(i)\n",
    "#     print(IBT_Return_YC[i])\n",
    "    Plan_Return_YC_Tot[i] = ((pv_df_tot['Present Values'][i+1])/pv_df_tot['Present Values'][i])-1\n",
    "Plan_Return_YC_Tot"
   ]
  },
  {
   "cell_type": "code",
   "execution_count": null,
   "id": "38b23a65",
   "metadata": {},
   "outputs": [],
   "source": [
    "Plan_Returns_YC_Tot = pd.DataFrame(Plan_Return_YC_Tot)\n",
    "#export monthly dataframe to excel\n",
    "filepath = (PLAN+ ' Liability & SC Returns & PV.xlsx')\n",
    "writer = pd.ExcelWriter(filepath, engine='xlsxwriter')\n",
    "Plan_Returns_YC_Tot.to_excel(writer, sheet_name='returns')\n",
    "pv_df_tot.to_excel(writer, sheet_name='pv')\n",
    "writer.save()"
   ]
  },
  {
   "cell_type": "code",
   "execution_count": null,
   "id": "443c4aa3",
   "metadata": {},
   "outputs": [],
   "source": [
    "Plan_DR = pd.read_excel(\"UPS Pension - Historical Liability Data - 9.30.21.xlsx\",sheet_name = PLAN ,skiprows = [0,1,2,3],usecols=[1,2], na_values=[\"\"],index_col=0)\n",
    "#dataset.set_index('Year')\n",
    "len(Plan_DR)\n"
   ]
  },
  {
   "cell_type": "code",
   "execution_count": null,
   "id": "be234dec",
   "metadata": {},
   "outputs": [],
   "source": [
    "col_DR = Plan_DR.columns\n",
    "#df_DR_M =  (1+Plan_DR)**(1/12)-1\n",
    "df_DR_M = Plan_DR\n",
    "IRR = df_DR_M['IRR']\n",
    "IRR"
   ]
  },
  {
   "cell_type": "code",
   "execution_count": null,
   "id": "547c8d85",
   "metadata": {},
   "outputs": [],
   "source": [
    "Plan_PV_DR = np.zeros(len(df_DR_M))\n",
    "for j in range (len(df_DR_M)):\n",
    "    for i in range (len(Time_CF)):\n",
    "        Plan_PV_DR[j] += (CF[i]/((1+IRR[j])**DF[i]))\n",
    "Plan_PV_DR"
   ]
  },
  {
   "cell_type": "code",
   "execution_count": null,
   "id": "438badda",
   "metadata": {},
   "outputs": [],
   "source": [
    "pv_df_dr = pd.DataFrame(Plan_PV_DR, columns=['Present Values'])\n",
    "\n",
    "pv_df_dr"
   ]
  },
  {
   "cell_type": "code",
   "execution_count": null,
   "id": "b6718438",
   "metadata": {},
   "outputs": [],
   "source": [
    "pv_df_dr = pd.DataFrame(Plan_PV_DR, columns=['Present Values'])\n",
    "#export monthly dataframe to excel\n",
    "filepath = (PLAN+ ' Liability PV Using DR.xlsx')\n",
    "writer = pd.ExcelWriter(filepath, engine='xlsxwriter')\n",
    "pv_df_dr.to_excel(writer, sheet_name='Present Values')\n",
    "writer.save()"
   ]
  },
  {
   "cell_type": "code",
   "execution_count": null,
   "id": "2d86a165",
   "metadata": {},
   "outputs": [],
   "source": [
    "Initial_CF = np.negative(pv_df_tot['Present Values'])\n",
    "type(Initial_CF)\n"
   ]
  },
  {
   "cell_type": "code",
   "execution_count": null,
   "id": "c9560e89",
   "metadata": {},
   "outputs": [],
   "source": [
    "CF"
   ]
  },
  {
   "cell_type": "code",
   "execution_count": null,
   "id": "e4d1814e",
   "metadata": {},
   "outputs": [],
   "source": [
    "DF\n"
   ]
  },
  {
   "cell_type": "code",
   "execution_count": null,
   "id": "7af0041b",
   "metadata": {},
   "outputs": [],
   "source": [
    "def npv(irr, cfs, yrs):  \n",
    "    return np.sum(cfs / (1. + irr) ** yrs)\n",
    "\n",
    "def irr(cfs, yrs, x0, **kwargs):\n",
    "    return np.asscalar(fsolve(npv, x0=x0, args=(cfs, yrs), **kwargs))\n",
    "\n",
    "\n",
    "# NPV = np.zeros(len(df_DR_M))\n",
    "# for j in range (len(df_DR_M)):\n",
    "#     for i in range (len(Time_CF)):\n",
    "#         NPV[j] += npv(IRR[j], CF[i], DF[i])\n",
    "# NPV \n",
    "\n",
    "IRR = np.zeros(len(df_DR_M))\n",
    "for j in range (len(df_DR_M)):\n",
    "    cfs = np.append(np.negative(pv_df_dr['Present Values'][j]),CF)\n",
    "    yrs = np.append(0, DF)\n",
    "    IRR[j] += irr(cfs, yrs, .03)\n",
    "IRR \n",
    "\n"
   ]
  },
  {
   "cell_type": "code",
   "execution_count": null,
   "id": "703ce067",
   "metadata": {},
   "outputs": [],
   "source": []
  }
 ],
 "metadata": {
  "kernelspec": {
   "display_name": "Python 3",
   "language": "python",
   "name": "python3"
  },
  "language_info": {
   "codemirror_mode": {
    "name": "ipython",
    "version": 3
   },
   "file_extension": ".py",
   "mimetype": "text/x-python",
   "name": "python",
   "nbconvert_exporter": "python",
   "pygments_lexer": "ipython3",
   "version": "3.7.10"
  },
  "latex_envs": {
   "LaTeX_envs_menu_present": true,
   "autoclose": false,
   "autocomplete": true,
   "bibliofile": "biblio.bib",
   "cite_by": "apalike",
   "current_citInitial": 1,
   "eqLabelWithNumbers": true,
   "eqNumInitial": 1,
   "hotkeys": {
    "equation": "Ctrl-E",
    "itemize": "Ctrl-I"
   },
   "labels_anchors": false,
   "latex_user_defs": false,
   "report_style_numbering": false,
   "user_envs_cfg": false
  },
  "toc": {
   "base_numbering": 1,
   "nav_menu": {},
   "number_sections": true,
   "sideBar": true,
   "skip_h1_title": false,
   "title_cell": "Table of Contents",
   "title_sidebar": "Contents",
   "toc_cell": false,
   "toc_position": {},
   "toc_section_display": true,
   "toc_window_display": false
  },
  "varInspector": {
   "cols": {
    "lenName": 16,
    "lenType": 16,
    "lenVar": 40
   },
   "kernels_config": {
    "python": {
     "delete_cmd_postfix": "",
     "delete_cmd_prefix": "del ",
     "library": "var_list.py",
     "varRefreshCmd": "print(var_dic_list())"
    },
    "r": {
     "delete_cmd_postfix": ") ",
     "delete_cmd_prefix": "rm(",
     "library": "var_list.r",
     "varRefreshCmd": "cat(var_dic_list()) "
    }
   },
   "types_to_exclude": [
    "module",
    "function",
    "builtin_function_or_method",
    "instance",
    "_Feature"
   ],
   "window_display": false
  }
 },
 "nbformat": 4,
 "nbformat_minor": 5
}
