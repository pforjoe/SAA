{
 "cells": [
  {
   "cell_type": "markdown",
   "id": "64f441d9",
   "metadata": {},
   "source": [
    "Import Libraries"
   ]
  },
  {
   "cell_type": "code",
   "execution_count": null,
   "id": "9d1f9d4e",
   "metadata": {},
   "outputs": [],
   "source": [
    "import scipy as sp\n",
    "from scipy import optimize\n",
    "from scipy.optimize import fsolve\n",
    "from scipy import interpolate\n",
    "\n",
    "# Import pandas\n",
    "import pandas as pd\n",
    "\n",
    "# Import numpy\n",
    "import numpy as np\n",
    "from numpy import * \n",
    "from numpy.linalg import multi_dot\n",
    "import numpy_financial as npf\n",
    "\n",
    "# Plot settings\n",
    "import matplotlib\n",
    "import matplotlib.pyplot as plt\n",
    "matplotlib.rcParams['figure.figsize'] = 16, 8\n",
    "\n",
    "# Ignore warnings\n",
    "import warnings\n",
    "warnings.filterwarnings('ignore')\n",
    "\n",
    "# IBT or Pension or Retirement\n",
    "PLAN = 'IBT'\n",
    "\n",
    "# % Probability of Sponsor Not Contributing Service Costs\n",
    "UPS_Contr_Pctg = .05\n",
    "\n",
    "# Target Years to be \"Fully Funded\"\n",
    "Years_to_FF = 20\n",
    "\n",
    "# Target Fully Funded Ratio\n",
    "FF_FR = 1.05"
   ]
  },
  {
   "cell_type": "code",
   "execution_count": null,
   "id": "20ca1d75",
   "metadata": {},
   "outputs": [],
   "source": [
    "df_CF = pd.read_excel(\"2021_PBO_CF.xlsx\",sheet_name = \"PBO Cashflows Summary\", skiprows = [0,1,2], usecols=[0,1,2,3,4], na_values=[\"\"],index_col=0)\n",
    "#dataset.set_index('Year')\n",
    "df_CF"
   ]
  },
  {
   "cell_type": "code",
   "execution_count": null,
   "id": "e281c26b",
   "metadata": {},
   "outputs": [],
   "source": [
    "df_CF = df_CF.divide(12)\n",
    "df_CF"
   ]
  },
  {
   "cell_type": "code",
   "execution_count": null,
   "id": "3424ad9a",
   "metadata": {},
   "outputs": [],
   "source": [
    "df=df_CF.copy()\n",
    "\n",
    "#set start date and end date\n",
    "start_date = df.index.min() - pd.DateOffset(day=0)\n",
    "end_date = df.index.max() + pd.DateOffset(day=31)\n",
    "\n",
    "#create new dataframe monthly index\n",
    "dates = pd.date_range(start_date, end_date, freq='M')\n",
    "dates.name = 'date'\n",
    "\n",
    "#reindex yearly dataframe to monthly dataframe\n",
    "df = df.reindex(dates, method='ffill')\n",
    "\n",
    "#export monthly dataframe to excel\n",
    "#filepath = 'monthly_data.xlsx'\n",
    "#writer = pd.ExcelWriter(filepath, engine='xlsxwriter')\n",
    "#df.to_excel(writer, sheet_name='data')\n",
    "#writer.save()\n",
    "df_CF = df\n",
    "df_CF"
   ]
  },
  {
   "cell_type": "code",
   "execution_count": null,
   "id": "353b7ded",
   "metadata": {},
   "outputs": [],
   "source": [
    "df_CF_add = pd.read_excel(\"2021 Liability Cash Flows.xlsx\",sheet_name = \"CF\", usecols=[0,1,2,3,4], na_values=[\"\"],index_col=0)\n",
    "#dataset.set_index('Year')\n",
    "df_CF_add"
   ]
  },
  {
   "cell_type": "code",
   "execution_count": null,
   "id": "3bf29ebe",
   "metadata": {},
   "outputs": [],
   "source": [
    "df_CF  = df_CF_add.append(df_CF)\n",
    "df_CF"
   ]
  },
  {
   "cell_type": "code",
   "execution_count": null,
   "id": "31abf160",
   "metadata": {},
   "outputs": [],
   "source": [
    "from itertools import count, takewhile\n",
    "def frange(start, stop, step):\n",
    "        return takewhile(lambda x: x< stop, count(start, step))\n",
    "t = list(frange((1/12), 79.41666666666, (1/12)))"
   ]
  },
  {
   "cell_type": "code",
   "execution_count": null,
   "id": "bb54626a",
   "metadata": {},
   "outputs": [],
   "source": [
    "df_t=pd.DataFrame(t)\n",
    "df_t"
   ]
  },
  {
   "cell_type": "code",
   "execution_count": null,
   "id": "2ceb354b",
   "metadata": {},
   "outputs": [],
   "source": [
    "df_CF['Time'] = df_t.values\n",
    "df_CF"
   ]
  },
  {
   "cell_type": "code",
   "execution_count": null,
   "id": "9cbfa2e3",
   "metadata": {},
   "outputs": [],
   "source": [
    "#IBT = df_CF[PLAN]\n",
    "#RP = df_CF[PLAN]\n",
    "CF = np.array(df_CF[PLAN])\n",
    "Time_CF = df_CF.index\n",
    "DF = np.array(df_CF['Time'])\n",
    "CF"
   ]
  },
  {
   "cell_type": "code",
   "execution_count": null,
   "id": "653e3008",
   "metadata": {},
   "outputs": [],
   "source": [
    "#from PyCurve.curve import Curve"
   ]
  },
  {
   "cell_type": "code",
   "execution_count": null,
   "id": "ff6d2feb",
   "metadata": {
    "scrolled": true
   },
   "outputs": [],
   "source": [
    "df_Raw_FTSE_YC = pd.read_excel(\"Raw FTSE Data.xlsx\",skiprows = [0,2],usecols = [*range(0, 145)], na_values=[\"\"])\n",
    "#dataset.set_index('Date')\n",
    "Raw_FTSE_YC = df_Raw_FTSE_YC.copy()\n",
    "#Raw_FTSE_YC = pd.DataFrame(Raw_FTSE_YC)\n",
    "#df_Raw_FTSE_YC.set_index('Date')\n",
    "col = Raw_FTSE_YC.columns\n",
    "Raw_FTSE_YC\n"
   ]
  },
  {
   "cell_type": "code",
   "execution_count": null,
   "id": "561ed821",
   "metadata": {},
   "outputs": [],
   "source": [
    "raw_liab_ibt_dict={}\n",
    "tr = Raw_FTSE_YC['Date']\n",
    "# list of raw (not interpolated) times to maturity\n",
    "yr = Raw_FTSE_YC[col] \n",
    "# list of raw (not interpolated) yields\n",
    "t = list(frange(0.5, 30.08, (1/12))) # interpolating in range 1..30 years\n",
    "\n",
    "for col in Raw_FTSE_YC.columns:\n",
    "    #print('col: {}'.format(col))\n",
    "    y = []\n",
    "    interp = sp.interpolate.interp1d(tr, Raw_FTSE_YC[col] , bounds_error=False, fill_value=sp.nan)\n",
    "#for col in Raw_FTSE_YC.columns:\n",
    "    #for col in FTSE_YC.columns:\n",
    "    for i in t:\n",
    "            value = float(interp(i))\n",
    "            if not sp.isnan(value): # Don't include out-of-range values\n",
    "                y.append(value)\n",
    "                End_Rate = [y[-1]] * 592\n",
    "                Beg_Rate = [y[0]] * 5\n",
    "            raw_liab_ibt_dict[col] = Beg_Rate + y + End_Rate\n",
    "len(raw_liab_ibt_dict[col])\n",
    "#curve = Curve(t,y)\n",
    "#print(\"curve.get_rate:{},curve.get_time:{}\".format(curve.get_rate,curve.get_time))\n",
    "#print(curve.get_rate)\n",
    "#print(curve.get_time)"
   ]
  },
  {
   "cell_type": "code",
   "execution_count": null,
   "id": "dcf93cab",
   "metadata": {},
   "outputs": [],
   "source": [
    "int_df = pd.DataFrame(raw_liab_ibt_dict)\n",
    "int_df = int_df.drop(['Date'], axis=1)\n",
    "int_df = int_df.iloc[:, ::-1]\n",
    "int_df"
   ]
  },
  {
   "cell_type": "code",
   "execution_count": null,
   "id": "ecb1de49",
   "metadata": {},
   "outputs": [],
   "source": [
    "liab_plan_dict={}\n",
    "for col in int_df.columns:\n",
    "    #print('col: {}'.format(col))\n",
    "    temp_pv=0\n",
    "    for j in range (0,len(Time_CF)):\n",
    "        temp_pv += (CF[j]/((1+int_df[col][j]/100)**DF[j]))\n",
    "    liab_plan_dict[col] = temp_pv\n",
    "len(liab_plan_dict)"
   ]
  },
  {
   "cell_type": "code",
   "execution_count": null,
   "id": "68261be7",
   "metadata": {},
   "outputs": [],
   "source": [
    "pv_df = pd.DataFrame(liab_plan_dict, index = ['Present Values']).transpose()\n",
    "np.negative(pv_df['Present Values'])\n",
    "pv_df"
   ]
  },
  {
   "cell_type": "code",
   "execution_count": null,
   "id": "6fe00ba4",
   "metadata": {},
   "outputs": [],
   "source": [
    "Plan_Return_YC = np.zeros(len(liab_plan_dict)-1)\n",
    "#for j in range (0,len(Time_DR)):\n",
    "for i in range (0,len(liab_plan_dict)-1):\n",
    "    #print(i)\n",
    "#     print(IBT_Return_YC[i])\n",
    "    Plan_Return_YC[i] = ((pv_df['Present Values'][i+1])/pv_df['Present Values'][i])-1\n",
    "Plan_Return_YC"
   ]
  },
  {
   "cell_type": "code",
   "execution_count": null,
   "id": "8dd593a9",
   "metadata": {},
   "outputs": [],
   "source": [
    "Plan_Returns_YC = pd.DataFrame(Plan_Return_YC)\n",
    "#export monthly dataframe to excel\n",
    "filepath = (PLAN+ ' Liability Returns & PV.xlsx')\n",
    "writer = pd.ExcelWriter(filepath, engine='xlsxwriter')\n",
    "Plan_Returns_YC.to_excel(writer, sheet_name='returns')\n",
    "pv_df.to_excel(writer, sheet_name='pv')\n",
    "writer.save()"
   ]
  },
  {
   "cell_type": "code",
   "execution_count": null,
   "id": "6bc90a6f",
   "metadata": {},
   "outputs": [],
   "source": [
    "df_SC = pd.read_excel(\"2021_PBO_CF.xlsx\",sheet_name = \"Service Cost Cashflows Summary\", skiprows = [0,1,2], usecols=[0,1,2,3], na_values=[\"\"],index_col=0)\n",
    "#dataset.set_index('Year')\n",
    "df_SC"
   ]
  },
  {
   "cell_type": "code",
   "execution_count": null,
   "id": "a380ecec",
   "metadata": {},
   "outputs": [],
   "source": [
    "df_SC = df_SC.divide(12)\n",
    "df_SC"
   ]
  },
  {
   "cell_type": "code",
   "execution_count": null,
   "id": "b329a028",
   "metadata": {},
   "outputs": [],
   "source": [
    "df=df_SC.copy()\n",
    "\n",
    "#set start date and end date\n",
    "start_date = df.index.min() - pd.DateOffset(day=0)\n",
    "end_date = df.index.max() + pd.DateOffset(day=31)\n",
    "\n",
    "#create new dataframe monthly index\n",
    "dates = pd.date_range(start_date, end_date, freq='M')\n",
    "dates.name = 'date'\n",
    "\n",
    "#reindex yearly dataframe to monthly dataframe\n",
    "df = df.reindex(dates, method='ffill')\n",
    "\n",
    "#export monthly dataframe to excel\n",
    "#filepath = 'monthly_data.xlsx'\n",
    "#writer = pd.ExcelWriter(filepath, engine='xlsxwriter')\n",
    "#df.to_excel(writer, sheet_name='data')\n",
    "#writer.save()\n",
    "df_SC = df\n",
    "df_SC"
   ]
  },
  {
   "cell_type": "code",
   "execution_count": null,
   "id": "bb428672",
   "metadata": {},
   "outputs": [],
   "source": [
    "df_SC_add = pd.read_excel(\"2021 Liability Cash Flows.xlsx\",sheet_name = \"SC\", usecols=[0,1,2,3,4], na_values=[\"\"],index_col=0)\n",
    "#dataset.set_index('Year')\n",
    "df_SC_add"
   ]
  },
  {
   "cell_type": "code",
   "execution_count": null,
   "id": "08fcabc7",
   "metadata": {},
   "outputs": [],
   "source": [
    "df_SC  = df_SC_add.append(df_SC)\n",
    "df_SC"
   ]
  },
  {
   "cell_type": "code",
   "execution_count": null,
   "id": "d6f99a66",
   "metadata": {},
   "outputs": [],
   "source": [
    "col_SC = df_SC.columns\n",
    "col_CF = df_CF.columns\n",
    "df_CF_Tot = UPS_Contr_Pctg*df_SC[col_SC] + df_CF[col_CF]\n",
    "df_CF_Tot"
   ]
  },
  {
   "cell_type": "code",
   "execution_count": null,
   "id": "04027ce7",
   "metadata": {},
   "outputs": [],
   "source": [
    "df_CF_Tot['Time'] = df_t.values\n",
    "df_CF_Tot"
   ]
  },
  {
   "cell_type": "code",
   "execution_count": null,
   "id": "add2f890",
   "metadata": {},
   "outputs": [],
   "source": [
    "CF_Tot = df_CF_Tot[PLAN]\n",
    "Time_CF_Tot = df_CF_Tot.index\n",
    "DF_Tot=df_CF_Tot['Time']"
   ]
  },
  {
   "cell_type": "code",
   "execution_count": null,
   "id": "e3e92c0b",
   "metadata": {},
   "outputs": [],
   "source": [
    "liab_plan_dict_tot={}\n",
    "for col in int_df.columns:\n",
    "    #print('col: {}'.format(col))\n",
    "    temp_pv=0\n",
    "    for j in range (0,len(Time_CF)):\n",
    "        temp_pv += (CF_Tot[j]/((1+int_df[col][j]/100)**DF_Tot[j]))\n",
    "    liab_plan_dict_tot[col] = temp_pv\n",
    "liab_plan_dict_tot\n"
   ]
  },
  {
   "cell_type": "code",
   "execution_count": null,
   "id": "28e5d440",
   "metadata": {},
   "outputs": [],
   "source": [
    "pv_df_tot = pd.DataFrame(liab_plan_dict_tot, index = ['Present Values']).transpose()\n",
    "\n",
    "pv_df_tot"
   ]
  },
  {
   "cell_type": "code",
   "execution_count": null,
   "id": "d78aad62",
   "metadata": {},
   "outputs": [],
   "source": [
    "Plan_Return_YC_Tot = np.zeros(len(liab_plan_dict_tot)-1)\n",
    "#for j in range (0,len(Time_DR)):\n",
    "for i in range (0,len(liab_plan_dict_tot)-1):\n",
    "    #print(i)\n",
    "#     print(IBT_Return_YC[i])\n",
    "    Plan_Return_YC_Tot[i] = ((pv_df_tot['Present Values'][i+1])/pv_df_tot['Present Values'][i])-1\n",
    "Plan_Returns_YC_Tot = pd.DataFrame(Plan_Return_YC_Tot)\n",
    "Plan_Returns_YC_Tot"
   ]
  },
  {
   "cell_type": "code",
   "execution_count": null,
   "id": "38b23a65",
   "metadata": {},
   "outputs": [],
   "source": [
    "#export monthly dataframe to excel\n",
    "filepath = (PLAN+ ' Liability & SC Returns & PV.xlsx')\n",
    "writer = pd.ExcelWriter(filepath, engine='xlsxwriter')\n",
    "Plan_Returns_YC_Tot.to_excel(writer, sheet_name='returns')\n",
    "pv_df_tot.to_excel(writer, sheet_name='pv')\n",
    "writer.save()"
   ]
  },
  {
   "cell_type": "markdown",
   "id": "3c78df61",
   "metadata": {},
   "source": [
    "Calculate IRR's"
   ]
  },
  {
   "cell_type": "code",
   "execution_count": null,
   "id": "443c4aa3",
   "metadata": {},
   "outputs": [],
   "source": [
    "Plan_DR = pd.read_excel(\"UPS Pension - Historical Liability Data - 9.30.21.xlsx\",sheet_name = PLAN ,skiprows = [0,1,2,3],usecols=[1,2], na_values=[\"\"],index_col=0)\n",
    "#dataset.set_index('Year')\n",
    "Plan_DR\n"
   ]
  },
  {
   "cell_type": "code",
   "execution_count": null,
   "id": "be234dec",
   "metadata": {},
   "outputs": [],
   "source": [
    "#col_DR = Plan_DR.columns\n",
    "#df_DR_M =  (1+Plan_DR)**(1/12)-1\n",
    "#df_DR_M = Plan_DR\n",
    "IRR = Plan_DR['IRR']\n",
    "IRR"
   ]
  },
  {
   "cell_type": "code",
   "execution_count": null,
   "id": "b014a4a4",
   "metadata": {},
   "outputs": [],
   "source": [
    "#liab_plan_dict_dr={}\n",
    "#for col in Plan_DR.columns:\n",
    "    #print('col: {}'.format(col))\n",
    "#temp_pv=0\n",
    "for j in range (len(Plan_DR)):\n",
    "    for i in range (len(Time_CF)):\n",
    "    #for j in range (0,len(Time_CF)):\n",
    "        temp_pv += (CF[i]/((1+Plan_DR['IRR'][j]**DF[i])))\n",
    "    #liab_plan_dict_dr[col] = temp_pv\n",
    "    PV_DR = temp_pv\n",
    "PV_DR"
   ]
  },
  {
   "cell_type": "code",
   "execution_count": null,
   "id": "e74e149a",
   "metadata": {},
   "outputs": [],
   "source": [
    "temp_pv = (CF[0]/((1+Plan_DR['IRR'][-1])**DF[0]))\n",
    "temp_pv"
   ]
  },
  {
   "cell_type": "code",
   "execution_count": null,
   "id": "547c8d85",
   "metadata": {},
   "outputs": [],
   "source": [
    "Plan_PV_DR = np.zeros(len(Plan_DR))\n",
    "for j in range (len(Plan_DR)):\n",
    "    for i in range (len(Time_CF)):\n",
    "        Plan_PV_DR[j] += (CF[i]/((1+Plan_DR['IRR'][j])**DF[i]))\n",
    "Plan_PV_DR"
   ]
  },
  {
   "cell_type": "code",
   "execution_count": null,
   "id": "438badda",
   "metadata": {},
   "outputs": [],
   "source": [
    "pv_df_dr = pd.DataFrame(Plan_PV_DR, columns=['Present Values'])\n",
    "#np.negative(pv_df_dr['Present Values'])\n",
    "test = np.append(np.negative(pv_df_dr['Present Values'][0]),CF)\n",
    "#pv_df_dr['Present Values']\n",
    "test"
   ]
  },
  {
   "cell_type": "code",
   "execution_count": null,
   "id": "b6718438",
   "metadata": {},
   "outputs": [],
   "source": [
    "#pv_df_dr = pd.DataFrame(Plan_PV_DR)\n",
    "#export monthly dataframe to excel\n",
    "filepath = (PLAN+ ' Liability PV Using DR.xlsx')\n",
    "writer = pd.ExcelWriter(filepath, engine='xlsxwriter')\n",
    "pv_df_dr.to_excel(writer, sheet_name='Present Values')\n",
    "writer.save()"
   ]
  },
  {
   "cell_type": "code",
   "execution_count": null,
   "id": "5eff70dd",
   "metadata": {},
   "outputs": [],
   "source": [
    "import numpy as np\n",
    "from scipy.optimize import fsolve\n",
    "\n",
    "def npv(irr, cfs, yrs):  \n",
    "    return np.sum(cfs / (1. + irr) ** yrs)\n",
    "\n",
    "def irr(cfs, yrs, x0, **kwargs):\n",
    "    return np.asscalar(fsolve(npv, x0=x0, args=(cfs, yrs), **kwargs))"
   ]
  },
  {
   "cell_type": "code",
   "execution_count": null,
   "id": "24c4e559",
   "metadata": {},
   "outputs": [],
   "source": [
    "IRR = np.zeros(len(pv_df))\n",
    "for j in range (len(pv_df)):\n",
    "    cash_flow = np.append(np.negative(pv_df['Present Values'][j]),CF)\n",
    "    years_ago = np.append(0,DF)\n",
    "    IRR[j] = irr(cash_flow, years_ago, x0=0.10, maxfev=10000)\n",
    "IRR"
   ]
  },
  {
   "cell_type": "code",
   "execution_count": null,
   "id": "1115f339",
   "metadata": {},
   "outputs": [],
   "source": [
    "IRR = np.zeros(len(pv_df_tot))\n",
    "for j in range (len(pv_df_tot)):\n",
    "    cash_flow = np.append(np.negative(pv_df_tot['Present Values'][j]),CF)\n",
    "    years_ago = np.append(0,DF)\n",
    "    IRR[j] = irr(cash_flow, years_ago, x0=0.10, maxfev=10000)\n",
    "IRR"
   ]
  },
  {
   "cell_type": "code",
   "execution_count": null,
   "id": "b2c8f992",
   "metadata": {},
   "outputs": [],
   "source": [
    "IRR = np.zeros(len(Plan_DR))\n",
    "for j in range (len(Plan_DR)):\n",
    "    cash_flow = np.append(np.negative(pv_df_dr['Present Values'][j]),CF)\n",
    "    years_ago = np.append(0,DF)\n",
    "    IRR[j] = irr(cash_flow, years_ago, x0=0.10, maxfev=10000)\n",
    "IRR"
   ]
  },
  {
   "cell_type": "code",
   "execution_count": null,
   "id": "f3645871",
   "metadata": {},
   "outputs": [],
   "source": [
    "df_Raw_FTSE_YC_Pre2010 = pd.read_excel(\"Raw FTSE Data pre 2010.xlsx\",skiprows = [0,2],usecols = [*range(14, 185)], na_values=[\"\"])\n",
    "#dataset.set_index('Date')\n",
    "Raw_FTSE_YC_Pre2010 = df_Raw_FTSE_YC_Pre2010.copy()\n",
    "#Raw_FTSE_YC = pd.DataFrame(Raw_FTSE_YC)\n",
    "#df_Raw_FTSE_YC.set_index('Date')\n",
    "col = Raw_FTSE_YC_Pre2010.columns\n",
    "Raw_FTSE_YC_Pre2010\n"
   ]
  },
  {
   "cell_type": "code",
   "execution_count": null,
   "id": "a89e4036",
   "metadata": {},
   "outputs": [],
   "source": [
    "Raw_FTSE_YC_Tot = Raw_FTSE_YC.join(Raw_FTSE_YC_Pre2010)\n",
    "Raw_FTSE_YC_Tot"
   ]
  },
  {
   "cell_type": "code",
   "execution_count": null,
   "id": "3179d853",
   "metadata": {},
   "outputs": [],
   "source": [
    "raw_liab_ibt_dict_tot={}\n",
    "tr = Raw_FTSE_YC_Tot['Date']\n",
    "# list of raw (not interpolated) times to maturity\n",
    "yr = Raw_FTSE_YC_Tot[col] \n",
    "# list of raw (not interpolated) yields\n",
    "t = list(frange(0.5, 30.08, (1/12))) # interpolating in range 1..30 years\n",
    "\n",
    "for col in Raw_FTSE_YC_Tot.columns:\n",
    "    #print('col: {}'.format(col))\n",
    "    y = []\n",
    "    interp = sp.interpolate.interp1d(tr, Raw_FTSE_YC_Tot[col] , bounds_error=False, fill_value=sp.nan)\n",
    "#for col in Raw_FTSE_YC.columns:\n",
    "    #for col in FTSE_YC.columns:\n",
    "    for i in t:\n",
    "            value = float(interp(i))\n",
    "            if not sp.isnan(value): # Don't include out-of-range values\n",
    "                y.append(value)\n",
    "                End_Rate = [y[-1]] * 592\n",
    "                Beg_Rate = [y[0]] * 5\n",
    "            raw_liab_ibt_dict_tot[col] = Beg_Rate + y + End_Rate\n",
    "len(raw_liab_ibt_dict_tot[col])"
   ]
  },
  {
   "cell_type": "code",
   "execution_count": null,
   "id": "bfeb5b5c",
   "metadata": {},
   "outputs": [],
   "source": [
    "int_df_tot = pd.DataFrame(raw_liab_ibt_dict_tot)\n",
    "int_df_tot = int_df_tot.drop(['Date'], axis=1)\n",
    "int_df_tot = int_df_tot.iloc[:, ::-1]\n",
    "int_df_tot"
   ]
  },
  {
   "cell_type": "code",
   "execution_count": null,
   "id": "b3b2cc90",
   "metadata": {},
   "outputs": [],
   "source": [
    "liab_plan_dict_totdf={}\n",
    "for col in int_df_tot.columns:\n",
    "    #print('col: {}'.format(col))\n",
    "    temp_pv=0\n",
    "    for j in range (0,len(Time_CF)):\n",
    "        temp_pv += (CF[j]/((1+int_df_tot[col][j]/100)**DF[j]))\n",
    "    liab_plan_dict_totdf[col] = temp_pv\n",
    "liab_plan_dict_totdf"
   ]
  },
  {
   "cell_type": "code",
   "execution_count": null,
   "id": "7654a8b9",
   "metadata": {},
   "outputs": [],
   "source": [
    "pv_df_totdf= pd.DataFrame(liab_plan_dict_totdf, index = ['Present Values']).transpose()\n",
    "np.negative(pv_df_totdf['Present Values'])\n",
    "pv_df_totdf.tail"
   ]
  },
  {
   "cell_type": "code",
   "execution_count": null,
   "id": "f8d2e855",
   "metadata": {},
   "outputs": [],
   "source": [
    "Plan_Return_YC_Totdf = np.zeros(len(liab_plan_dict_totdf)-1)\n",
    "#for j in range (0,len(Time_DR)):\n",
    "for i in range (0,len(liab_plan_dict_totdf)-1):\n",
    "    #print(i)\n",
    "#     print(IBT_Return_YC[i])\n",
    "    Plan_Return_YC_Totdf[i] = ((pv_df_totdf['Present Values'][i+1])/pv_df_totdf['Present Values'][i])-1\n",
    "Plan_Returns_YC_Totdf = pd.DataFrame(Plan_Return_YC_Totdf)\n",
    "Plan_Returns_YC_Totdf"
   ]
  },
  {
   "cell_type": "code",
   "execution_count": null,
   "id": "f5a15a34",
   "metadata": {},
   "outputs": [],
   "source": [
    "#export monthly dataframe to excel\n",
    "filepath = (PLAN+ ' Liability Returns & PV Pre 2010.xlsx')\n",
    "writer = pd.ExcelWriter(filepath, engine='xlsxwriter')\n",
    "Plan_Returns_YC_Totdf.to_excel(writer, sheet_name='returns')\n",
    "pv_df_totdf.to_excel(writer, sheet_name='pv')\n",
    "writer.save()"
   ]
  },
  {
   "cell_type": "markdown",
   "id": "da91ae83",
   "metadata": {},
   "source": [
    "Test Liability Return Data Pre-2010"
   ]
  },
  {
   "cell_type": "code",
   "execution_count": null,
   "id": "b2729d8a",
   "metadata": {},
   "outputs": [],
   "source": [
    "df_Raw_FTSE_YC = pd.read_excel(\"Raw FTSE Data.xlsx\",skiprows = [0,2],usecols = [*range(0, 130)], na_values=[\"\"])\n",
    "#dataset.set_index('Date')\n",
    "Raw_FTSE_YC = df_Raw_FTSE_YC.copy()\n",
    "#Raw_FTSE_YC = pd.DataFrame(Raw_FTSE_YC)\n",
    "#df_Raw_FTSE_YC.set_index('Date')\n",
    "col = Raw_FTSE_YC.columns\n",
    "Raw_FTSE_YC\n"
   ]
  },
  {
   "cell_type": "code",
   "execution_count": null,
   "id": "39df407a",
   "metadata": {},
   "outputs": [],
   "source": [
    "df_Raw_FTSE_YC_Pre2010 = pd.read_excel(\"Raw FTSE Data pre 2010.xlsx\",skiprows = [0,2],usecols = [*range(1, 185)], na_values=[\"\"])\n",
    "#dataset.set_index('Date')\n",
    "Raw_FTSE_YC_Pre2010 = df_Raw_FTSE_YC_Pre2010.copy()\n",
    "#Raw_FTSE_YC = pd.DataFrame(Raw_FTSE_YC)\n",
    "#df_Raw_FTSE_YC.set_index('Date')\n",
    "col = Raw_FTSE_YC_Pre2010.columns\n",
    "Raw_FTSE_YC_Pre2010\n"
   ]
  },
  {
   "cell_type": "code",
   "execution_count": null,
   "id": "9f349563",
   "metadata": {},
   "outputs": [],
   "source": [
    "Raw_FTSE_YC_Tot_1 = Raw_FTSE_YC.join(Raw_FTSE_YC_Pre2010)\n",
    "Raw_FTSE_YC_Tot_1"
   ]
  },
  {
   "cell_type": "code",
   "execution_count": null,
   "id": "1dc2faca",
   "metadata": {},
   "outputs": [],
   "source": [
    "raw_liab_ibt_dict_tot_1={}\n",
    "tr = Raw_FTSE_YC_Tot_1['Date']\n",
    "# list of raw (not interpolated) times to maturity\n",
    "yr = Raw_FTSE_YC_Tot_1[col] \n",
    "# list of raw (not interpolated) yields\n",
    "t = list(frange(0.5, 30.08, (1/12))) # interpolating in range 1..30 years\n",
    "\n",
    "for col in Raw_FTSE_YC_Tot_1.columns:\n",
    "    #print('col: {}'.format(col))\n",
    "    y = []\n",
    "    interp = sp.interpolate.interp1d(tr, Raw_FTSE_YC_Tot_1[col] , bounds_error=False, fill_value=sp.nan)\n",
    "#for col in Raw_FTSE_YC.columns:\n",
    "    #for col in FTSE_YC.columns:\n",
    "    for i in t:\n",
    "            value = float(interp(i))\n",
    "            if not sp.isnan(value): # Don't include out-of-range values\n",
    "                y.append(value)\n",
    "                End_Rate = [y[-1]] * 592\n",
    "                Beg_Rate = [y[0]] * 5\n",
    "            raw_liab_ibt_dict_tot_1[col] = Beg_Rate + y + End_Rate\n",
    "len(raw_liab_ibt_dict_tot_1[col])"
   ]
  },
  {
   "cell_type": "code",
   "execution_count": null,
   "id": "443a20e2",
   "metadata": {},
   "outputs": [],
   "source": [
    "int_df_tot_1 = pd.DataFrame(raw_liab_ibt_dict_tot_1)\n",
    "int_df_tot_1 = int_df_tot_1.drop(['Date'], axis=1)\n",
    "int_df_tot_1 = int_df_tot_1.iloc[:, ::-1]\n",
    "int_df_tot_1[col]"
   ]
  },
  {
   "cell_type": "code",
   "execution_count": null,
   "id": "d809623f",
   "metadata": {},
   "outputs": [],
   "source": [
    "liab_plan_dict_totdf_1={}\n",
    "for col in int_df_tot_1.columns:\n",
    "    #print('col: {}'.format(col))\n",
    "    temp_pv=0\n",
    "    for j in range (0,len(Time_CF)):\n",
    "        temp_pv += (CF[j]/((1+int_df_tot_1[col][j]/100)**DF[j]))\n",
    "    liab_plan_dict_totdf_1[col] = temp_pv\n",
    "liab_plan_dict_totdf_1"
   ]
  },
  {
   "cell_type": "code",
   "execution_count": null,
   "id": "a607f428",
   "metadata": {},
   "outputs": [],
   "source": [
    "pv_df_totdf_1= pd.DataFrame(liab_plan_dict_totdf_1, index = ['Present Values']).transpose()\n",
    "np.negative(pv_df_totdf_1['Present Values'])\n",
    "pv_df_totdf_1"
   ]
  },
  {
   "cell_type": "code",
   "execution_count": null,
   "id": "a48de068",
   "metadata": {},
   "outputs": [],
   "source": [
    "Plan_Return_YC_Totdf_1 = np.zeros(len(liab_plan_dict_totdf_1)-1)\n",
    "#for j in range (0,len(Time_DR)):\n",
    "for i in range (0,len(liab_plan_dict_totdf_1)-1):\n",
    "    #print(i)\n",
    "#     print(IBT_Return_YC[i])\n",
    "    Plan_Return_YC_Totdf_1[i] = ((pv_df_totdf_1['Present Values'][i+1])/pv_df_totdf_1['Present Values'][i])-1\n",
    "Plan_Returns_YC_Totdf_1 = pd.DataFrame(Plan_Return_YC_Totdf_1)\n",
    "Plan_Returns_YC_Totdf_1"
   ]
  },
  {
   "cell_type": "code",
   "execution_count": null,
   "id": "29517b91",
   "metadata": {},
   "outputs": [],
   "source": [
    "#export monthly dataframe to excel\n",
    "filepath = (PLAN+ ' Liability Returns & PV Pre 2010_1.xlsx')\n",
    "writer = pd.ExcelWriter(filepath, engine='xlsxwriter')\n",
    "Plan_Returns_YC_Totdf_1.to_excel(writer, sheet_name='returns')\n",
    "pv_df_totdf_1.to_excel(writer, sheet_name='pv')\n",
    "writer.save()"
   ]
  },
  {
   "cell_type": "code",
   "execution_count": null,
   "id": "fead077e",
   "metadata": {},
   "outputs": [],
   "source": [
    "Plan_PV_DR_ERF = np.zeros(len(df_t))\n",
    "for j in range (len(df_t)):\n",
    "    for i in range (j,len(Time_CF_Tot)):\n",
    "        Plan_PV_DR_ERF[j] += (CF_Tot[i]/((1+Plan_DR['IRR'][-1])**DF[i-j]))\n",
    "Plan_PV_DR_ERF[240]"
   ]
  },
  {
   "cell_type": "code",
   "execution_count": null,
   "id": "8b1b650c",
   "metadata": {},
   "outputs": [],
   "source": [
    "#fullfillment_return = .045\n",
    "#MV_Assets = 13203547000\n"
   ]
  },
  {
   "cell_type": "code",
   "execution_count": null,
   "id": "dd9b29f8",
   "metadata": {},
   "outputs": [],
   "source": [
    "#Plan_Asset_MV = np.zeros(len(df_t))\n",
    "#for i in range(len(df_t)):\n",
    "       #if (i == 0):\n",
    "            \n",
    "                #Plan_Asset_MV[i] = MV_Assets\n",
    "        #else:\n",
    "            \n",
    "                #Plan_Asset_MV[i] = (Plan_Asset_MV[i-1]*(1+fullfillment_return)**DF[0].tolist())-CF[i-1]\n",
    "#Plan_Asset_MV"
   ]
  },
  {
   "cell_type": "code",
   "execution_count": null,
   "id": "918a8c16",
   "metadata": {},
   "outputs": [],
   "source": [
    "#df_Asset_MV = pd.DataFrame(Plan_Asset_MV)\n",
    "#df_Asset_MV"
   ]
  },
  {
   "cell_type": "code",
   "execution_count": null,
   "id": "bd750540",
   "metadata": {},
   "outputs": [],
   "source": [
    "#FR = Plan_Asset_MV/Plan_PV_DR_ERF\n",
    "#FR = pd.DataFrame(FR)\n",
    "#FR.style.format(\"{:.2%}\")\n"
   ]
  },
  {
   "cell_type": "code",
   "execution_count": null,
   "id": "9809c5aa",
   "metadata": {},
   "outputs": [],
   "source": [
    "#FS = Plan_Asset_MV[-1] - Plan_PV_DR_ERF[-1] \n",
    "#FS"
   ]
  },
  {
   "cell_type": "code",
   "execution_count": null,
   "id": "97ec148c",
   "metadata": {},
   "outputs": [],
   "source": [
    "def full_solve(x0):\n",
    "    return np.asscalar(fsolve(fullfillment_solve, x0=x0))\n",
    "\n",
    "\n",
    "def fullfillment_solve(fullfillment_return):\n",
    "    #fullfillment_return = .045\n",
    "    MV_Assets = 13203547000\n",
    "    Plan_PV_DR_ERF = np.zeros(len(df_t))\n",
    "    Plan_Asset_MV = np.zeros(len(df_t))\n",
    "    x = Years_to_FF/DF[0]\n",
    "    x = x.astype(int)\n",
    "    \n",
    "    for j in range(len(df_t)):\n",
    "        if (j == 0):\n",
    "            for i in range(j,len(Time_CF_Tot)):\n",
    "                Plan_PV_DR_ERF[j] += (CF_Tot[i]/((1+Plan_DR['IRR'][-1])**DF[i-j]))\n",
    "                Plan_Asset_MV[j] = MV_Assets\n",
    "    \n",
    "        else:\n",
    "            for i in range(j,len(Time_CF_Tot)):\n",
    "                Plan_PV_DR_ERF[j] += (CF_Tot[i]/((1+Plan_DR['IRR'][-1])**DF[i-j]))\n",
    "                Plan_Asset_MV[j] = (Plan_Asset_MV[j-1]*(1+fullfillment_return)**DF[0].tolist())-CF[j-1]\n",
    "    \n",
    "    return Plan_Asset_MV[x] - Plan_PV_DR_ERF[x]*FF_FR\n",
    "\n",
    "\n",
    "    "
   ]
  },
  {
   "cell_type": "code",
   "execution_count": null,
   "id": "1a79e83c",
   "metadata": {},
   "outputs": [],
   "source": [
    "fullfill_irr = full_solve(x0=.01)\n",
    "print(\"Base Case Fullfillment rate of return:%3.8f\"%fullfill_irr)\n"
   ]
  },
  {
   "cell_type": "code",
   "execution_count": null,
   "id": "922a315d",
   "metadata": {},
   "outputs": [],
   "source": [
    "fullfillment_return = fullfill_irr\n",
    "MV_Assets = 13203547000\n",
    "Plan_PV_DR_ERF = np.zeros(len(df_t))\n",
    "Plan_Asset_MV = np.zeros(len(df_t))\n",
    "x = Years_to_FF/DF[0]\n",
    "x = x.astype(int)\n",
    "for j in range(len(df_t)):\n",
    "    if (j == 0):\n",
    "        for i in range(j,len(Time_CF_Tot)):\n",
    "            Plan_PV_DR_ERF[j] += (CF_Tot[i]/((1+Plan_DR['IRR'][-1])**DF[i-j]))\n",
    "            Plan_Asset_MV[j] = MV_Assets\n",
    "    \n",
    "    else:\n",
    "        for i in range(j,len(Time_CF_Tot)):\n",
    "            Plan_PV_DR_ERF[j] += (CF_Tot[i]/((1+Plan_DR['IRR'][-1])**DF[i-j]))\n",
    "            Plan_Asset_MV[j] = (Plan_Asset_MV[j-1]*(1+fullfillment_return)**DF[0].tolist())-CF[j-1]\n",
    "    \n",
    "Plan_Asset_MV[x] - Plan_PV_DR_ERF[x]*FF_FR"
   ]
  },
  {
   "cell_type": "code",
   "execution_count": null,
   "id": "cfaf3ccb",
   "metadata": {
    "scrolled": true
   },
   "outputs": [],
   "source": [
    "Excess_Return = fullfill_irr - Plan_DR['IRR'][-1]\n",
    "#Excess_Return = pd.DataFrame(Excess_Return)\n",
    "#Excess_Return.style.format(\"{:.2%}\")\n",
    "Excess_Return"
   ]
  },
  {
   "cell_type": "code",
   "execution_count": null,
   "id": "091c64d7",
   "metadata": {},
   "outputs": [],
   "source": [
    "df_PVFB = pd.read_excel(\"YE2020 PBO SC Cashflows_QP.xlsx\",sheet_name = \"PVFB Cashflows Summary\", skiprows = [0,1,2,3,4,5,6,7,8], usecols=[0,1,2,3,4], na_values=[\"\"],index_col=0)\n",
    "#dataset.set_index('Year')\n",
    "df_PVFB"
   ]
  },
  {
   "cell_type": "code",
   "execution_count": null,
   "id": "b6341445",
   "metadata": {},
   "outputs": [],
   "source": [
    "df_PVFB = df_PVFB.divide(12)\n",
    "df_PVFB"
   ]
  },
  {
   "cell_type": "code",
   "execution_count": null,
   "id": "dbaa2148",
   "metadata": {},
   "outputs": [],
   "source": [
    "df=df_PVFB.copy()\n",
    "\n",
    "#set start date and end date\n",
    "start_date = df.index.min() - pd.DateOffset(day=0)\n",
    "end_date = df.index.max() + pd.DateOffset(day=31)\n",
    "\n",
    "#create new dataframe monthly index\n",
    "dates = pd.date_range(start_date, end_date, freq='M')\n",
    "dates.name = 'date'\n",
    "\n",
    "#reindex yearly dataframe to monthly dataframe\n",
    "df = df.reindex(dates, method='ffill')\n",
    "\n",
    "#export monthly dataframe to excel\n",
    "#filepath = 'monthly_data.xlsx'\n",
    "#writer = pd.ExcelWriter(filepath, engine='xlsxwriter')\n",
    "#df.to_excel(writer, sheet_name='data')\n",
    "#writer.save()\n",
    "df_PVFB = df\n",
    "df_PVFB"
   ]
  },
  {
   "cell_type": "code",
   "execution_count": null,
   "id": "60f86084",
   "metadata": {},
   "outputs": [],
   "source": [
    "df_PVFB_add = pd.read_excel(\"YE2020 PBO SC Cashflows_QP.xlsx\",sheet_name = \"PVFB Cashflows Summary 2021\", usecols=[0,1,2,3,4], na_values=[\"\"],index_col=0)\n",
    "#dataset.set_index('Year')\n",
    "df_PVFB_add"
   ]
  },
  {
   "cell_type": "code",
   "execution_count": null,
   "id": "fb27175a",
   "metadata": {},
   "outputs": [],
   "source": [
    "df_PVFB  = df_PVFB_add.append(df_PVFB)\n",
    "df_PVFB"
   ]
  },
  {
   "cell_type": "code",
   "execution_count": null,
   "id": "2378d332",
   "metadata": {},
   "outputs": [],
   "source": [
    "df_PVFB = df_PVFB.subtract(df_CF)\n",
    "df_PVFB"
   ]
  },
  {
   "cell_type": "code",
   "execution_count": null,
   "id": "1869205b",
   "metadata": {},
   "outputs": [],
   "source": [
    "col_PVFB = df_PVFB.columns\n",
    "col_CF = df_CF.columns\n",
    "df_CF_Tot_PVFB = UPS_Contr_Pctg*df_PVFB[col_PVFB] + df_CF[col_CF]\n",
    "df_CF_Tot_PVFB"
   ]
  },
  {
   "cell_type": "code",
   "execution_count": null,
   "id": "2a6cc801",
   "metadata": {},
   "outputs": [],
   "source": [
    "df_CF_Tot_PVFB['Time'] = df_t.values\n",
    "df_CF_Tot_PVFB"
   ]
  },
  {
   "cell_type": "code",
   "execution_count": null,
   "id": "c357f112",
   "metadata": {},
   "outputs": [],
   "source": [
    "CF_Tot_PVFB = df_CF_Tot_PVFB[PLAN]\n",
    "Time_CF_Tot_PVFB = df_CF_Tot_PVFB.index\n",
    "DF_Tot_PVFB=df_CF_Tot_PVFB['Time']"
   ]
  },
  {
   "cell_type": "code",
   "execution_count": null,
   "id": "9189cbe8",
   "metadata": {},
   "outputs": [],
   "source": [
    "liab_plan_dict_tot_pvfb={}\n",
    "for col in int_df.columns:\n",
    "    #print('col: {}'.format(col))\n",
    "    temp_pv=0\n",
    "    for j in range (0,len(Time_CF)):\n",
    "        temp_pv += (CF_Tot_PVFB[j]/((1+int_df[col][j]/100)**DF_Tot_PVFB[j]))\n",
    "    liab_plan_dict_tot_pvfb[col] = temp_pv\n",
    "liab_plan_dict_tot_pvfb\n"
   ]
  },
  {
   "cell_type": "code",
   "execution_count": null,
   "id": "1f9da949",
   "metadata": {},
   "outputs": [],
   "source": [
    "pv_df_tot_pvfb = pd.DataFrame(liab_plan_dict_tot_pvfb, index = ['Present Values']).transpose()\n",
    "\n",
    "pv_df_tot_pvfb"
   ]
  },
  {
   "cell_type": "code",
   "execution_count": null,
   "id": "4b13b45b",
   "metadata": {},
   "outputs": [],
   "source": [
    "Plan_Return_YC_Totdf_pvfb = np.zeros(len(liab_plan_dict_tot_pvfb)-1)\n",
    "#for j in range (0,len(Time_DR)):\n",
    "for i in range (0,len(liab_plan_dict_tot_pvfb)-1):\n",
    "    #print(i)\n",
    "#     print(IBT_Return_YC[i])\n",
    "    Plan_Return_YC_Totdf_pvfb[i] = ((pv_df_tot_pvfb['Present Values'][i+1])/pv_df_tot_pvfb['Present Values'][i])-1\n",
    "Plan_Return_YC_Totdf_pvfb = pd.DataFrame(Plan_Return_YC_Totdf_pvfb)\n",
    "Plan_Return_YC_Totdf_pvfb"
   ]
  },
  {
   "cell_type": "code",
   "execution_count": null,
   "id": "92a2aad9",
   "metadata": {},
   "outputs": [],
   "source": [
    "#export monthly dataframe to excel\n",
    "filepath = (PLAN+ ' PVFB Liability Returns & PV.xlsx')\n",
    "writer = pd.ExcelWriter(filepath, engine='xlsxwriter')\n",
    "Plan_Return_YC_Totdf_pvfb.to_excel(writer, sheet_name='returns')\n",
    "pv_df_tot_pvfb.to_excel(writer, sheet_name='pv')\n",
    "writer.save()"
   ]
  },
  {
   "cell_type": "code",
   "execution_count": null,
   "id": "4756a90c",
   "metadata": {},
   "outputs": [],
   "source": [
    "def full_solve(x0):\n",
    "    return np.asscalar(fsolve(fullfillment_solve, x0=x0))\n",
    "\n",
    "\n",
    "def fullfillment_solve(fullfillment_return):\n",
    "    #fullfillment_return = .045\n",
    "    MV_Assets = 13203547000\n",
    "    Plan_PV_DR_ERF = np.zeros(len(df_t))\n",
    "    Plan_Asset_MV = np.zeros(len(df_t))\n",
    "    x = Years_to_FF/DF[0]\n",
    "    x = x.astype(int)\n",
    "    \n",
    "    for j in range(len(df_t)):\n",
    "        if (j == 0):\n",
    "            for i in range(j,len(Time_CF_Tot_PVFB)):\n",
    "                Plan_PV_DR_ERF[j] += (CF_Tot_PVFB[i]/((1+Plan_DR['IRR'][-1])**DF[i-j]))\n",
    "                Plan_Asset_MV[j] = MV_Assets\n",
    "    \n",
    "        else:\n",
    "            for i in range(j,len(Time_CF_Tot_PVFB)):\n",
    "                Plan_PV_DR_ERF[j] += (CF_Tot_PVFB[i]/((1+Plan_DR['IRR'][-1])**DF[i-j]))\n",
    "                Plan_Asset_MV[j] = (Plan_Asset_MV[j-1]*(1+fullfillment_return)**DF[0].tolist())-CF_Tot_PVFB[j-1]\n",
    "    \n",
    "    return Plan_Asset_MV[x] - Plan_PV_DR_ERF[x]*FF_FR\n"
   ]
  },
  {
   "cell_type": "code",
   "execution_count": null,
   "id": "72733926",
   "metadata": {},
   "outputs": [],
   "source": [
    "fullfill_irr = full_solve(x0=.01)\n",
    "print(\"Base Case Fullfillment rate of return:%3.8f\"%fullfill_irr)\n"
   ]
  },
  {
   "cell_type": "code",
   "execution_count": null,
   "id": "0a62b8f4",
   "metadata": {},
   "outputs": [],
   "source": [
    "fullfillment_return = fullfill_irr\n",
    "MV_Assets = 13203547000\n",
    "Plan_PV_DR_ERF = np.zeros(len(df_t))\n",
    "Plan_Asset_MV = np.zeros(len(df_t))\n",
    "x = Years_to_FF/DF[0]\n",
    "x = x.astype(int)\n",
    "for j in range(len(df_t)):\n",
    "    if (j == 0):\n",
    "        for i in range(j,len(Time_CF_Tot_PVFB)):\n",
    "            Plan_PV_DR_ERF[j] += (CF_Tot_PVFB[i]/((1+Plan_DR['IRR'][-1])**DF[i-j]))\n",
    "            Plan_Asset_MV[j] = MV_Assets\n",
    "    \n",
    "    else:\n",
    "        for i in range(j,len(Time_CF_Tot_PVFB)):\n",
    "            Plan_PV_DR_ERF[j] += (CF_Tot_PVFB[i]/((1+Plan_DR['IRR'][-1])**DF[i-j]))\n",
    "            Plan_Asset_MV[j] = (Plan_Asset_MV[j-1]*(1+fullfillment_return)**DF[0].tolist())-CF_Tot_PVFB[j-1]\n",
    "    \n",
    "Plan_Asset_MV[x] - Plan_PV_DR_ERF[x]*FF_FR"
   ]
  },
  {
   "cell_type": "code",
   "execution_count": null,
   "id": "aa69cab1",
   "metadata": {},
   "outputs": [],
   "source": [
    "Excess_Return = fullfill_irr - Plan_DR['IRR'][-1]\n",
    "#Excess_Return = pd.DataFrame(Excess_Return)\n",
    "#Excess_Return.style.format(\"{:.2%}\")\n",
    "Excess_Return"
   ]
  },
  {
   "cell_type": "code",
   "execution_count": null,
   "id": "e2ffd4f2",
   "metadata": {},
   "outputs": [],
   "source": []
  }
 ],
 "metadata": {
  "kernelspec": {
   "display_name": "Python 3",
   "language": "python",
   "name": "python3"
  },
  "language_info": {
   "codemirror_mode": {
    "name": "ipython",
    "version": 3
   },
   "file_extension": ".py",
   "mimetype": "text/x-python",
   "name": "python",
   "nbconvert_exporter": "python",
   "pygments_lexer": "ipython3",
   "version": "3.7.10"
  },
  "latex_envs": {
   "LaTeX_envs_menu_present": true,
   "autoclose": false,
   "autocomplete": true,
   "bibliofile": "biblio.bib",
   "cite_by": "apalike",
   "current_citInitial": 1,
   "eqLabelWithNumbers": true,
   "eqNumInitial": 1,
   "hotkeys": {
    "equation": "Ctrl-E",
    "itemize": "Ctrl-I"
   },
   "labels_anchors": false,
   "latex_user_defs": false,
   "report_style_numbering": false,
   "user_envs_cfg": false
  },
  "toc": {
   "base_numbering": 1,
   "nav_menu": {},
   "number_sections": true,
   "sideBar": true,
   "skip_h1_title": false,
   "title_cell": "Table of Contents",
   "title_sidebar": "Contents",
   "toc_cell": false,
   "toc_position": {},
   "toc_section_display": true,
   "toc_window_display": false
  },
  "varInspector": {
   "cols": {
    "lenName": 16,
    "lenType": 16,
    "lenVar": 40
   },
   "kernels_config": {
    "python": {
     "delete_cmd_postfix": "",
     "delete_cmd_prefix": "del ",
     "library": "var_list.py",
     "varRefreshCmd": "print(var_dic_list())"
    },
    "r": {
     "delete_cmd_postfix": ") ",
     "delete_cmd_prefix": "rm(",
     "library": "var_list.r",
     "varRefreshCmd": "cat(var_dic_list()) "
    }
   },
   "types_to_exclude": [
    "module",
    "function",
    "builtin_function_or_method",
    "instance",
    "_Feature"
   ],
   "window_display": false
  }
 },
 "nbformat": 4,
 "nbformat_minor": 5
}
