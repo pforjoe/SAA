{
 "cells": [
  {
   "cell_type": "code",
   "execution_count": null,
   "id": "176b448c",
   "metadata": {},
   "outputs": [],
   "source": [
    "# Import pandas\n",
    "import pandas as pd\n",
    "\n",
    "# Import numpy\n",
    "import numpy as np\n",
    "from numpy import *\n",
    "from numpy.linalg import multi_dot\n",
    "\n",
    "# Plot settings\n",
    "import matplotlib\n",
    "import matplotlib.pyplot as plt\n",
    "matplotlib.rcParams['figure.figsize'] = 16, 8\n",
    "\n",
    "import itertools\n",
    "\n",
    "# Ignore warnings\n",
    "import warnings\n",
    "warnings.filterwarnings('ignore')\n"
   ]
  },
  {
   "cell_type": "code",
   "execution_count": null,
   "id": "59247427",
   "metadata": {},
   "outputs": [],
   "source": [
    "dataset = pd.read_excel(\"UPS Mean-Variance.xlsx\",sheet_name = \"Summarized Output\", skiprows = 1, usecols=[2,5,8,9,11,12,13,14,15,16,17,18,19,20,21,22,23,24,25,26], na_values=[\"\"])\n",
    "dataset = dataset.set_index('Asset Class or Liability')\n"
   ]
  },
  {
   "cell_type": "code",
   "execution_count": null,
   "id": "372ba0c3",
   "metadata": {},
   "outputs": [],
   "source": [
    "dataset.head(16)"
   ]
  },
  {
   "cell_type": "code",
   "execution_count": null,
   "id": "bbb4bc25",
   "metadata": {},
   "outputs": [],
   "source": []
  },
  {
   "cell_type": "code",
   "execution_count": null,
   "id": "eb248b11",
   "metadata": {},
   "outputs": [],
   "source": [
    "# Portfolio Weights\n",
    "policy_wts = dataset['FS AdjWeights'].to_numpy()[:,np.newaxis]"
   ]
  },
  {
   "cell_type": "code",
   "execution_count": null,
   "id": "79d4ba35",
   "metadata": {},
   "outputs": [],
   "source": [
    "policy_wts.shape"
   ]
  },
  {
   "cell_type": "code",
   "execution_count": null,
   "id": "f328d6ab",
   "metadata": {},
   "outputs": [],
   "source": [
    "ret = dataset['Return']\n",
    "ret"
   ]
  },
  {
   "cell_type": "code",
   "execution_count": null,
   "id": "a6e3844b",
   "metadata": {},
   "outputs": [],
   "source": [
    "ret.shape"
   ]
  },
  {
   "cell_type": "code",
   "execution_count": null,
   "id": "634843a5",
   "metadata": {},
   "outputs": [],
   "source": [
    "vol = dataset['Vol'].to_numpy()[:,np.newaxis]"
   ]
  },
  {
   "cell_type": "code",
   "execution_count": null,
   "id": "3c7f3bac",
   "metadata": {},
   "outputs": [],
   "source": [
    "vol.shape"
   ]
  },
  {
   "cell_type": "code",
   "execution_count": null,
   "id": "15d9d701",
   "metadata": {},
   "outputs": [],
   "source": [
    "corr = dataset.iloc[:,3:21].to_numpy()"
   ]
  },
  {
   "cell_type": "code",
   "execution_count": null,
   "id": "739c720e",
   "metadata": {},
   "outputs": [],
   "source": [
    "corr.shape"
   ]
  },
  {
   "cell_type": "code",
   "execution_count": null,
   "id": "af4d9987",
   "metadata": {},
   "outputs": [],
   "source": [
    "retmc= ret.to_numpy()[:,np.newaxis]\n",
    "retmc.shape"
   ]
  },
  {
   "cell_type": "code",
   "execution_count": null,
   "id": "af7f9749",
   "metadata": {},
   "outputs": [],
   "source": [
    "# Portfolio Return\n",
    "policy_wts.T @ ret.to_numpy()[:,np.newaxis]"
   ]
  },
  {
   "cell_type": "code",
   "execution_count": null,
   "id": "ac8ec24c",
   "metadata": {},
   "outputs": [],
   "source": [
    "# Portfolio Covariance\n",
    "cov = (vol @ vol.T)*corr\n",
    "cov.shape"
   ]
  },
  {
   "cell_type": "code",
   "execution_count": null,
   "id": "e12ecd21",
   "metadata": {},
   "outputs": [],
   "source": [
    "# Portfolio Variance\n",
    "var = multi_dot([policy_wts.T, cov, policy_wts])\n",
    "var"
   ]
  },
  {
   "cell_type": "code",
   "execution_count": null,
   "id": "711d8e92",
   "metadata": {},
   "outputs": [],
   "source": [
    "# Portfolio FSV\n",
    "FSV = sqrt(var)\n",
    "FSV"
   ]
  },
  {
   "cell_type": "code",
   "execution_count": null,
   "id": "ae3e52c1",
   "metadata": {},
   "outputs": [],
   "source": [
    "numofassets = len(policy_wts)-1\n",
    "numofassets"
   ]
  },
  {
   "cell_type": "code",
   "execution_count": null,
   "id": "c75c6d30",
   "metadata": {},
   "outputs": [],
   "source": [
    "symbols = ['Liability', '15+ STRIPS', 'Long Corp', 'Int Corp', 'Ultra 30 UST FUT', 'SP500', 'Russell 2000', 'MSCI EAFE', 'MSCI EM', 'MSCI ACWI','PE', 'RE', 'HY', 'HF', 'Commodities', 'Cash']"
   ]
  },
  {
   "cell_type": "markdown",
   "id": "5fc59ee8",
   "metadata": {},
   "source": [
    "\n",
    "numofportfolios = 5000"
   ]
  },
  {
   "cell_type": "code",
   "execution_count": null,
   "id": "43bb052b",
   "metadata": {},
   "outputs": [],
   "source": [
    "def portfolio_stats(weights):\n",
    "    \n",
    "    weights= array(weights)[:,newaxis]\n",
    "    port_rets = weights.T @ ret[:,newaxis]    \n",
    "    port_vols = sqrt(multi_dot([weights.T, cov, weights])) \n",
    "    \n",
    "    return np.array([port_rets, port_vols, port_rets/port_vols]).flatten()\n"
   ]
  },
  {
   "cell_type": "code",
   "execution_count": null,
   "id": "658e963d",
   "metadata": {},
   "outputs": [],
   "source": [
    "w = random.random(15)\n",
    "w"
   ]
  },
  {
   "cell_type": "code",
   "execution_count": null,
   "id": "147effaf",
   "metadata": {},
   "outputs": [],
   "source": [
    "# Set weights such that sum of weights equals 1.02\n",
    "w /= sum(w)*(1/1.02)\n",
    "w\n"
   ]
  },
  {
   "cell_type": "code",
   "execution_count": null,
   "id": "08c1d68f",
   "metadata": {},
   "outputs": [],
   "source": [
    "w.shape, sum(w)\n"
   ]
  },
  {
   "cell_type": "code",
   "execution_count": null,
   "id": "d48bbe1f",
   "metadata": {},
   "outputs": [],
   "source": [
    "w = np.insert(w,0,-1)[:,newaxis]\n",
    "w"
   ]
  },
  {
   "cell_type": "code",
   "execution_count": null,
   "id": "d3175a7e",
   "metadata": {},
   "outputs": [],
   "source": [
    "w.shape, np.sum(w)"
   ]
  },
  {
   "cell_type": "code",
   "execution_count": null,
   "id": "7cb3da81",
   "metadata": {},
   "outputs": [],
   "source": [
    "# Initialize the lists\n",
    "rets = []; vols = []; wts = []\n",
    "\n",
    "# Simulate 5,000 portfolios\n",
    "for i in range (5000):\n",
    "    \n",
    "    # Generate random weights\n",
    "    weights = random.random(numofassets)\n",
    "    \n",
    "    # Set weights such that sum of weights equals 1.02\n",
    "    weights /= sum(weights)*(1/1.02)\n",
    "    \n",
    "    # Add the constant Liability\n",
    "    weights = np.insert(weights,0,-1)[:,newaxis]\n",
    "    \n",
    "    # Portfolio statistics\n",
    "    rets.append(weights.T @ retmc)        \n",
    "    vols.append(sqrt(multi_dot([weights.T, cov, weights])))\n",
    "    wts.append(weights.flatten())\n",
    "\n",
    "# Record values     \n",
    "port_rets = array(rets).flatten()\n",
    "port_vols = array(vols).flatten()\n",
    "port_wts = array(wts)"
   ]
  },
  {
   "cell_type": "code",
   "execution_count": null,
   "id": "42ee8915",
   "metadata": {},
   "outputs": [],
   "source": [
    "port_rets"
   ]
  },
  {
   "cell_type": "code",
   "execution_count": null,
   "id": "ab7e1bd4",
   "metadata": {},
   "outputs": [],
   "source": [
    "port_rets.shape, port_vols.shape, port_wts.shape"
   ]
  },
  {
   "cell_type": "code",
   "execution_count": null,
   "id": "4cfd2a7e",
   "metadata": {},
   "outputs": [],
   "source": [
    "# Create a dataframe for analysis\n",
    "msrp_df = pd.DataFrame({'returns': port_rets,\n",
    "                      'volatility': port_vols,\n",
    "                      'sharpe_ratio': port_rets/port_vols,\n",
    "                      'weights': list(port_wts)})\n",
    "msrp_df.tail(15)"
   ]
  },
  {
   "cell_type": "code",
   "execution_count": null,
   "id": "451ee239",
   "metadata": {},
   "outputs": [],
   "source": [
    "# Summary Statistics\n",
    "msrp_df.describe().T\n"
   ]
  },
  {
   "cell_type": "code",
   "execution_count": null,
   "id": "3ded1617",
   "metadata": {},
   "outputs": [],
   "source": [
    "# Maximum Sharpe Ratio\n",
    "# Max sharpe ratio portfolio \n",
    "msrp = msrp_df.iloc[msrp_df['sharpe_ratio'].idxmax()]\n",
    "msrp"
   ]
  },
  {
   "cell_type": "code",
   "execution_count": null,
   "id": "ab1d0bd0",
   "metadata": {},
   "outputs": [],
   "source": [
    "# Max sharpe ratio portfolio weights\n",
    "max_sharpe_port_wts = msrp_df['weights'][msrp_df['sharpe_ratio'].idxmax()]\n",
    "\n",
    "# Allocation to achieve max sharpe ratio portfolio\n",
    "dict(zip(symbols,np.around(max_sharpe_port_wts*100,2)))"
   ]
  },
  {
   "cell_type": "code",
   "execution_count": null,
   "id": "92843e7f",
   "metadata": {},
   "outputs": [],
   "source": [
    "# Visualize the simulated portfolio for risk and return\n",
    "fig = plt.figure()\n",
    "ax = plt.axes()\n",
    "matplotlib.rcParams['figure.figsize'] = 16, 8\n",
    "\n",
    "ax.set_title('Monte Carlo Simulated Allocation')\n",
    "\n",
    "# Simulated portfolios\n",
    "fig.colorbar(ax.scatter(port_vols, port_rets, c=port_rets / port_vols, \n",
    "                        marker='o', cmap='RdYlGn', edgecolors='black'), label='Sharpe Ratio') \n",
    "\n",
    "# Maximum sharpe ratio portfolio\n",
    "ax.scatter(msrp['volatility'], msrp['returns'], c='red', marker='*', s = 300, label='Max Sharpe Ratio')\n",
    "\n",
    "ax.set_xlabel('Expected Volatility')\n",
    "ax.set_ylabel('Expected Return')\n",
    "ax.grid(True)\n"
   ]
  },
  {
   "cell_type": "code",
   "execution_count": null,
   "id": "5304f9f8",
   "metadata": {},
   "outputs": [],
   "source": [
    "# Import optimization module from scipy\n",
    "import scipy.optimize as sco"
   ]
  },
  {
   "cell_type": "code",
   "execution_count": null,
   "id": "410cd683",
   "metadata": {},
   "outputs": [],
   "source": [
    "# Maximizing sharpe ratio\n",
    "def min_sharpe_ratio(weights):\n",
    "    return -portfolio_stats(weights)[2]"
   ]
  },
  {
   "cell_type": "code",
   "execution_count": null,
   "id": "7a03e851",
   "metadata": {},
   "outputs": [],
   "source": [
    "numofassets = len(symbols)\n",
    "# numofassets\n"
   ]
  },
  {
   "cell_type": "code",
   "execution_count": null,
   "id": "a2147410",
   "metadata": {},
   "outputs": [],
   "source": [
    "#TODO:FUT (.33,.33)\n",
    "bnds = ((-1.000000000001,-.99999999999999),)+((0,1.02),)*3+((.5,.5)\n",
    "bnds"
   ]
  },
  {
   "cell_type": "code",
   "execution_count": null,
   "id": "03a2276c",
   "metadata": {},
   "outputs": [],
   "source": [
    "bnds[4] = (.5,.5)"
   ]
  },
  {
   "cell_type": "code",
   "execution_count": null,
   "id": "fe9d8d84",
   "metadata": {},
   "outputs": [],
   "source": [
    "cons = ({'type': 'eq', 'fun': lambda x: np.sum(x) - .02})\n",
    "bnds = bnds\n",
    "init_weights = policy_wts.copy()"
   ]
  },
  {
   "cell_type": "code",
   "execution_count": null,
   "id": "6190e63f",
   "metadata": {},
   "outputs": [],
   "source": [
    "# Optimizing for maximum sharpe ratio\n",
    "opt_sharpe = sco.minimize(min_sharpe_ratio, init_weights, method= 'SLSQP', bounds=bnds, constraints=cons)"
   ]
  },
  {
   "cell_type": "code",
   "execution_count": null,
   "id": "19de3449",
   "metadata": {},
   "outputs": [],
   "source": [
    "opt_sharpe"
   ]
  },
  {
   "cell_type": "code",
   "execution_count": null,
   "id": "6d165582",
   "metadata": {},
   "outputs": [],
   "source": [
    "# Portfolio weights\n",
    "list(zip(symbols,np.around(opt_sharpe['x']*100,2)))"
   ]
  },
  {
   "cell_type": "code",
   "execution_count": null,
   "id": "92b550cb",
   "metadata": {},
   "outputs": [],
   "source": [
    "# Portfolio stats\n",
    "stats = ['Returns', 'Volatility', 'Sharpe Ratio']\n",
    "list(zip(stats,np.around(portfolio_stats(opt_sharpe['x']),4)))"
   ]
  },
  {
   "cell_type": "code",
   "execution_count": null,
   "id": "7ec85119",
   "metadata": {},
   "outputs": [],
   "source": [
    "# Minimize the variance\n",
    "def min_variance(weights):\n",
    "    return portfolio_stats(weights)[1]**2"
   ]
  },
  {
   "cell_type": "code",
   "execution_count": null,
   "id": "5b2f9df7",
   "metadata": {},
   "outputs": [],
   "source": [
    "# Optimizing for minimum variance\n",
    "initial_wts = policy_wts.copy()\n",
    "opt_var = sco.minimize(min_variance, initial_wts, method='SLSQP', bounds=bnds, constraints=cons)"
   ]
  },
  {
   "cell_type": "code",
   "execution_count": null,
   "id": "c24b35c9",
   "metadata": {},
   "outputs": [],
   "source": [
    "opt_var"
   ]
  },
  {
   "cell_type": "code",
   "execution_count": null,
   "id": "92af4f56",
   "metadata": {},
   "outputs": [],
   "source": [
    "# Portfolio weights\n",
    "list(zip(symbols,np.around(opt_var['x']*100,2)))"
   ]
  },
  {
   "cell_type": "code",
   "execution_count": null,
   "id": "807dabcd",
   "metadata": {},
   "outputs": [],
   "source": [
    "# Portfolio stats\n",
    "list(zip(stats,np.around(portfolio_stats(opt_var['x']),4)))"
   ]
  },
  {
   "cell_type": "code",
   "execution_count": null,
   "id": "8a3652c1",
   "metadata": {},
   "outputs": [],
   "source": [
    "# Minimize the volatility\n",
    "def min_volatility(weights):\n",
    "    return portfolio_stats(weights)[1]"
   ]
  },
  {
   "cell_type": "code",
   "execution_count": null,
   "id": "25cbfd7a",
   "metadata": {},
   "outputs": [],
   "source": [
    "targetrets = linspace(-.0049,0.04,100)\n",
    "tvols = []\n",
    "\n",
    "for tr in targetrets:\n",
    "    \n",
    "    ef_cons = ({'type': 'eq', 'fun': lambda x: portfolio_stats(x)[0] - tr},\n",
    "               {'type': 'eq', 'fun': lambda x: np.sum(x) - .02})\n",
    "    \n",
    "    opt_ef = sco.minimize(min_volatility, initial_wts, method='SLSQP', bounds=bnds, constraints=ef_cons)\n",
    "    \n",
    "    tvols.append(opt_ef['fun'])\n",
    "\n",
    "targetvols = array(tvols)\n",
    "opt_ef"
   ]
  },
  {
   "cell_type": "code",
   "execution_count": null,
   "id": "67403582",
   "metadata": {},
   "outputs": [],
   "source": [
    "# Visualize the simulated portfolio for risk and return\n",
    "fig = plt.figure()\n",
    "ax = plt.axes()\n",
    "\n",
    "ax.set_title('Efficient Frontier Portfolio')\n",
    "\n",
    "# Efficient Frontier\n",
    "fig.colorbar(ax.scatter(targetvols, targetrets, c=targetrets / targetvols, \n",
    "                        marker='x', cmap='RdYlGn', edgecolors='black'), label='Sharpe Ratio') \n",
    "\n",
    "# Maximum Sharpe Portfolio\n",
    "ax.plot(portfolio_stats(opt_sharpe['x'])[1], portfolio_stats(opt_sharpe['x'])[0], 'r*', markersize =15.0)\n",
    "\n",
    "# Minimum Variance Portfolio\n",
    "ax.plot(portfolio_stats(opt_var['x'])[1], portfolio_stats(opt_var['x'])[0], 'b*', markersize =15.0)\n",
    "\n",
    "# Minimum Variance Portfolio\n",
    "ax.plot(FSV,policy_return, 'y*', markersize =15.0)\n",
    "\n",
    "ax.set_xlabel('Expected Volatility')\n",
    "ax.set_ylabel('Expected Return')\n",
    "ax.grid(True)"
   ]
  },
  {
   "cell_type": "code",
   "execution_count": null,
   "id": "f5d3b925",
   "metadata": {},
   "outputs": [],
   "source": []
  },
  {
   "cell_type": "code",
   "execution_count": null,
   "id": "3c552dbd",
   "metadata": {},
   "outputs": [],
   "source": []
  }
 ],
 "metadata": {
  "kernelspec": {
   "display_name": "Python 3",
   "language": "python",
   "name": "python3"
  },
  "language_info": {
   "codemirror_mode": {
    "name": "ipython",
    "version": 3
   },
   "file_extension": ".py",
   "mimetype": "text/x-python",
   "name": "python",
   "nbconvert_exporter": "python",
   "pygments_lexer": "ipython3",
   "version": "3.7.3"
  },
  "latex_envs": {
   "LaTeX_envs_menu_present": true,
   "autoclose": false,
   "autocomplete": true,
   "bibliofile": "biblio.bib",
   "cite_by": "apalike",
   "current_citInitial": 1,
   "eqLabelWithNumbers": true,
   "eqNumInitial": 1,
   "hotkeys": {
    "equation": "Ctrl-E",
    "itemize": "Ctrl-I"
   },
   "labels_anchors": false,
   "latex_user_defs": false,
   "report_style_numbering": false,
   "user_envs_cfg": false
  },
  "toc": {
   "base_numbering": 1,
   "nav_menu": {},
   "number_sections": true,
   "sideBar": true,
   "skip_h1_title": false,
   "title_cell": "Table of Contents",
   "title_sidebar": "Contents",
   "toc_cell": false,
   "toc_position": {},
   "toc_section_display": true,
   "toc_window_display": false
  },
  "varInspector": {
   "cols": {
    "lenName": 16,
    "lenType": 16,
    "lenVar": 40
   },
   "kernels_config": {
    "python": {
     "delete_cmd_postfix": "",
     "delete_cmd_prefix": "del ",
     "library": "var_list.py",
     "varRefreshCmd": "print(var_dic_list())"
    },
    "r": {
     "delete_cmd_postfix": ") ",
     "delete_cmd_prefix": "rm(",
     "library": "var_list.r",
     "varRefreshCmd": "cat(var_dic_list()) "
    }
   },
   "types_to_exclude": [
    "module",
    "function",
    "builtin_function_or_method",
    "instance",
    "_Feature"
   ],
   "window_display": false
  }
 },
 "nbformat": 4,
 "nbformat_minor": 5
}
