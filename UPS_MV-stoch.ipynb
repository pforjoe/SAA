{
 "cells": [
  {
   "cell_type": "markdown",
   "metadata": {},
   "source": [
    "# UPS Stochastic MV Framework"
   ]
  },
  {
   "cell_type": "markdown",
   "metadata": {},
   "source": [
    "### Import Libraries"
   ]
  },
  {
   "cell_type": "code",
   "execution_count": null,
   "metadata": {},
   "outputs": [],
   "source": [
    "from AssetAllocation.datamanger import datamanger as dm\n",
    "from AssetAllocation.analytics import summary\n",
    "from AssetAllocation.analytics.stoch_mv import stochMV\n",
    "from AssetAllocation.reporting import reports as rp, plots, formatter as fmt\n",
    "import numpy as np\n",
    "from ipywidgets import interact, interact_manual\n",
    "\n",
    "PLAN = 'IBT'"
   ]
  },
  {
   "cell_type": "markdown",
   "metadata": {},
   "source": [
    "### Model liability of Plan"
   ]
  },
  {
   "cell_type": "code",
   "execution_count": null,
   "metadata": {
    "pycharm": {
     "name": "#%%\n"
    }
   },
   "outputs": [],
   "source": [
    "liab_model = summary.get_liab_model(PLAN)"
   ]
  },
  {
   "cell_type": "markdown",
   "metadata": {},
   "source": [
    "### Compute plan inputs"
   ]
  },
  {
   "cell_type": "code",
   "execution_count": null,
   "metadata": {
    "pycharm": {
     "name": "#%%\n"
    }
   },
   "outputs": [],
   "source": [
    "pp_inputs = summary.get_pp_inputs(liab_model,PLAN)"
   ]
  },
  {
   "cell_type": "markdown",
   "metadata": {},
   "source": [
    "### Initialize plan object and display relevant variables"
   ]
  },
  {
   "cell_type": "code",
   "execution_count": null,
   "metadata": {
    "scrolled": false
   },
   "outputs": [],
   "source": [
    "plan = summary.get_plan_params(pp_inputs)\n",
    "\n",
    "#Display plan inputs\n",
    "pp_dict = plan.get_pp_dict()\n",
    "@interact\n",
    "def display_pp_inputs(variable=pp_dict.keys()):\n",
    "    if variable == 'Corr' or variable == 'Cov':\n",
    "        return plots.draw_heatmap(pp_dict[variable], half=False)\n",
    "    else:\n",
    "        return fmt.get_plan_styler(pp_dict[variable])"
   ]
  },
  {
   "cell_type": "markdown",
   "metadata": {},
   "source": [
    "### Initialize stoch MV object, generate random returns and resampled correaltions"
   ]
  },
  {
   "cell_type": "code",
   "execution_count": null,
   "metadata": {
    "pycharm": {
     "name": "#%%\n"
    }
   },
   "outputs": [],
   "source": [
    "#initialize the stochastic mean variance and generate the random returns\n",
    "num_of_plans = 120\n",
    "s = stochMV(plan, num_of_plans)\n",
    "s.generate_plans()\n",
    "s.generate_resamp_corr_dict()"
   ]
  },
  {
   "cell_type": "markdown",
   "metadata": {},
   "source": [
    "### View Simulated Return Data"
   ]
  },
  {
   "cell_type": "code",
   "execution_count": null,
   "metadata": {},
   "outputs": [],
   "source": [
    "fmt.get_plan_styler(s.returns_df)"
   ]
  },
  {
   "cell_type": "markdown",
   "metadata": {},
   "source": [
    "### View Resampled Correlations"
   ]
  },
  {
   "cell_type": "code",
   "execution_count": null,
   "metadata": {},
   "outputs": [],
   "source": [
    "@interact\n",
    "def display_resampled_corr(asset_liab=s.resamp_corr_dict.keys()):\n",
    "    resamp_corr_fig = plots.get_resamp_corr_fig(s.resamp_corr_dict[asset_liab], asset_liab)\n",
    "    resamp_corr_fig.show()"
   ]
  },
  {
   "cell_type": "markdown",
   "metadata": {},
   "source": [
    "### View Simulated Returns Plots"
   ]
  },
  {
   "cell_type": "code",
   "execution_count": null,
   "metadata": {
    "pycharm": {
     "name": "#%%\n"
    },
    "scrolled": false
   },
   "outputs": [],
   "source": [
    "#visualize the simulated returns\n",
    "plots.get_sim_return_fig(s)"
   ]
  },
  {
   "cell_type": "markdown",
   "metadata": {},
   "source": [
    "### Define bounds\n",
    "* Bounds data is stored in **'data/plan_inputs/bounds.xlsx'** by plan"
   ]
  },
  {
   "cell_type": "code",
   "execution_count": null,
   "metadata": {
    "pycharm": {
     "name": "#%%\n"
    }
   },
   "outputs": [],
   "source": [
    "bnds = dm.get_bounds(liab_model,plan=PLAN)\n",
    "\n",
    "@interact\n",
    "def view_update_bnds(asset = plan.bnds_dict['asset_list'],reset=False,\n",
    "                     lower=plan.bnds_dict['lower_bnd'],upper=plan.bnds_dict['upper_bnd'],reset_asset=False):\n",
    "    if lower:\n",
    "        fmt.update_lower_bnds(bnds, asset,lower,plan)\n",
    "    if upper:\n",
    "        fmt.update_upper_bnds(bnds, asset,upper,plan)\n",
    "    if reset:\n",
    "        fmt.reset_bnds(bnds,PLAN)\n",
    "    if reset_asset:\n",
    "        fmt.reset_asset_bnds(bnds,asset,PLAN)\n",
    "    return fmt.get_plan_styler(bnds)"
   ]
  },
  {
   "cell_type": "markdown",
   "metadata": {},
   "source": [
    "### Define contraints to optimize for min and max return\n",
    "* Current constraints:\n",
    "    * 45% <= sum(Fixed Income Assets weights) <= 55%\n",
    "    * sum(All plan assets weights (excluding Futures & Hedges)) = Funded Status Diff\n",
    "    * Hedges weights <= sum(50% of Equity & Private Equity weights)\n",
    "    * 15+ STRIPS weight >= sum(50% of Futures and 25% of Hedges weights)"
   ]
  },
  {
   "cell_type": "code",
   "execution_count": null,
   "metadata": {},
   "outputs": [],
   "source": [
    "cons = (\n",
    "        # 45% <= sum of Fixed Income Assets <= 55%\n",
    "        {'type': 'ineq', 'fun': lambda x: np.sum(x[1:3]) - 0.45*s.init_plan.funded_status},\n",
    "        {'type': 'ineq', 'fun': lambda x: .55*s.init_plan.funded_status - np.sum(x[1:3])},\n",
    "        #sum of all plan assets (excluding Futures and Hedges) = Funded Status Difference    \n",
    "        {'type': 'eq', 'fun': lambda x: np.sum(x[0:len(s.init_plan)-1]) - x[3] + (1-s.init_plan.funded_status)},\n",
    "        # 50% of Equity and PE >= Hedges\n",
    "        {'type': 'ineq', 'fun': lambda x: (x[4]+x[6])*.5 - x[len(s.init_plan)-1]},\n",
    "        # 15+ STRIPS >= sum(50% of Futures and 25% of Hedges weights)\n",
    "        {'type': 'ineq', 'fun': lambda x: x[1] - (x[3]/2+x[len(s.init_plan)-1]/4)}\n",
    "        )"
   ]
  },
  {
   "cell_type": "markdown",
   "metadata": {},
   "source": [
    "### Compute MV Efficient Frontier for each of the simulated plans"
   ]
  },
  {
   "cell_type": "code",
   "execution_count": null,
   "metadata": {
    "pycharm": {
     "name": "#%%\n"
    }
   },
   "outputs": [],
   "source": [
    "# computation of the efficient frontier for each of the simulated plan\n",
    "s.generate_efficient_frontiers(bnds, cons,num_ports=100)"
   ]
  },
  {
   "cell_type": "markdown",
   "metadata": {},
   "source": [
    "### Display stoch MV Efficient Frontier portfolios"
   ]
  },
  {
   "cell_type": "code",
   "execution_count": null,
   "metadata": {
    "pycharm": {
     "name": "#%%\n"
    }
   },
   "outputs": [],
   "source": [
    "# output the dataframe which has the average allocation\n",
    "fmt.get_port_styler(s.opt_ports_df)"
   ]
  },
  {
   "cell_type": "markdown",
   "metadata": {},
   "source": [
    "### Display MV Asset Allocation"
   ]
  },
  {
   "cell_type": "code",
   "execution_count": null,
   "metadata": {
    "pycharm": {
     "name": "#%%\n"
    }
   },
   "outputs": [],
   "source": [
    "#Asset Allocation Plot\n",
    "aa_fig = plots.get_aa_fig(s.opt_ports_df)\n",
    "aa_fig.show()"
   ]
  },
  {
   "cell_type": "markdown",
   "metadata": {},
   "source": [
    "### Display MV Efficient Frontier"
   ]
  },
  {
   "cell_type": "code",
   "execution_count": null,
   "metadata": {
    "pycharm": {
     "name": "#%%\n"
    }
   },
   "outputs": [],
   "source": [
    "#Plotly version of the Efficient Frontier plot\n",
    "ef_fig = plots.get_ef_fig(s.opt_ports_df)\n",
    "ef_fig.show()"
   ]
  },
  {
   "cell_type": "markdown",
   "metadata": {
    "pycharm": {
     "name": "#%%\n"
    }
   },
   "source": [
    "### Export data to excel"
   ]
  },
  {
   "cell_type": "code",
   "execution_count": null,
   "metadata": {},
   "outputs": [],
   "source": [
    "rp.get_stochmv_ef_portfolios_report(PLAN+' stochmv_ef_report', s,bnds)"
   ]
  }
 ],
 "metadata": {
  "kernelspec": {
   "display_name": "Python 3",
   "language": "python",
   "name": "python3"
  },
  "language_info": {
   "codemirror_mode": {
    "name": "ipython",
    "version": 3
   },
   "file_extension": ".py",
   "mimetype": "text/x-python",
   "name": "python",
   "nbconvert_exporter": "python",
   "pygments_lexer": "ipython3",
   "version": "3.7.10"
  },
  "varInspector": {
   "cols": {
    "lenName": 16,
    "lenType": 16,
    "lenVar": 40
   },
   "kernels_config": {
    "python": {
     "delete_cmd_postfix": "",
     "delete_cmd_prefix": "del ",
     "library": "var_list.py",
     "varRefreshCmd": "print(var_dic_list())"
    },
    "r": {
     "delete_cmd_postfix": ") ",
     "delete_cmd_prefix": "rm(",
     "library": "var_list.r",
     "varRefreshCmd": "cat(var_dic_list()) "
    }
   },
   "types_to_exclude": [
    "module",
    "function",
    "builtin_function_or_method",
    "instance",
    "_Feature"
   ],
   "window_display": false
  }
 },
 "nbformat": 4,
 "nbformat_minor": 1
}
