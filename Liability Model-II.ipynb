{
 "cells": [
  {
   "cell_type": "markdown",
   "id": "73dbe1f4",
   "metadata": {},
   "source": [
    "# Liability Model II\n",
    "\n",
    "**This notebook goes through creating a liability model"
   ]
  },
  {
   "cell_type": "markdown",
   "id": "07eb2280",
   "metadata": {},
   "source": [
    "### IMPORT LIBRARIES  "
   ]
  },
  {
   "cell_type": "code",
   "execution_count": null,
   "id": "d1f37c34",
   "metadata": {},
   "outputs": [],
   "source": [
    "from AssetAllocation.datamanger import datamanger as dm\n",
    "from AssetAllocation.analytics.liability_model import liabilityModel\n",
    "import pandas as pd\n",
    "from ipywidgets import interact, interact_manual, interactive\n",
    "\n",
    "# IBT or Pension or Retirement\n",
    "PLAN = 'IBT'\n",
    "\n",
    "# % Probability of Sponsor Not Contributing Service Costs\n",
    "UPS_CONTRB_PCT = .05\n",
    "\n",
    "# Target Years to be \"Fully Funded\"\n",
    "YRS_TO_FF = 5\n",
    "\n",
    "# Target Fully Funded Ratio\n",
    "FF_RATIO = 1.05"
   ]
  },
  {
   "cell_type": "markdown",
   "id": "4bed5bfe",
   "metadata": {},
   "source": [
    "### IMPORT LIABILITY AND ASSET DATA\n",
    "* Liability Cashflows:\n",
    "    * PBO\n",
    "    * Service Cost\n",
    "* FTSE Curve\n",
    "* Asset Data:\n",
    "    * Market Value\n",
    "    * Returns"
   ]
  },
  {
   "cell_type": "code",
   "execution_count": null,
   "id": "13ca4aff",
   "metadata": {},
   "outputs": [],
   "source": [
    "df_pbo_cfs = dm.get_cf_data('PBO')\n",
    "df_sc_cfs = dm.get_cf_data('Service Cost')\n",
    "df_ftse = dm.get_ftse_data()\n",
    "plan_asset_data = dm.get_plan_asset_data()\n",
    "plan_mv_cfs_dict = dm.get_plan_mv_cfs_dict()"
   ]
  },
  {
   "cell_type": "markdown",
   "id": "51f9b775",
   "metadata": {},
   "source": [
    "### VIEW DATA"
   ]
  },
  {
   "cell_type": "code",
   "execution_count": null,
   "id": "228604bb",
   "metadata": {},
   "outputs": [],
   "source": [
    "data_dict = {'pbo cashflows': df_pbo_cfs, 'sc cashflows': df_sc_cfs,'ftse data': df_ftse, \n",
    "             'asset market values': plan_asset_data['mkt_value'],'asset return':plan_asset_data['return']}\n",
    "@interact\n",
    "def display_data(data = data_dict.keys()):\n",
    "    return data_dict[data]"
   ]
  },
  {
   "cell_type": "markdown",
   "id": "e419d08b",
   "metadata": {},
   "source": [
    "### TRANSFORM DATA TO LIABILITY MODEL INPUTS  "
   ]
  },
  {
   "cell_type": "code",
   "execution_count": null,
   "id": "a6fd2e5c",
   "metadata": {},
   "outputs": [],
   "source": [
    "pbo_cashflows = df_pbo_cfs[PLAN]\n",
    "disc_factors = df_pbo_cfs['Time']\n",
    "sc_cashflows = df_sc_cfs[PLAN]\n",
    "liab_curve = dm.generate_liab_curve(df_ftse, pbo_cashflows)\n",
    "asset_mv = dm.get_plan_asset_mv(plan_asset_data, PLAN)\n",
    "asset_returns = dm.get_plan_asset_returns(plan_asset_data, PLAN)\n",
    "liab_mv_cfs = dm.offset(plan_mv_cfs_dict[PLAN])"
   ]
  },
  {
   "cell_type": "markdown",
   "id": "a7a1ff45",
   "metadata": {},
   "source": [
    "### CREATE LIABILITY MODEL"
   ]
  },
  {
   "cell_type": "code",
   "execution_count": null,
   "id": "f0e89a37",
   "metadata": {},
   "outputs": [],
   "source": [
    "liab_model = liabilityModel(pbo_cashflows, disc_factors, sc_cashflows, UPS_CONTRB_PCT,\n",
    "                            asset_mv, liab_mv_cfs, asset_returns, liab_curve)"
   ]
  },
  {
   "cell_type": "markdown",
   "id": "9500cc40",
   "metadata": {},
   "source": [
    "### VIEW LIABILITY MODEL DATA DICTIONARY"
   ]
  },
  {
   "cell_type": "code",
   "execution_count": null,
   "id": "7b935052",
   "metadata": {},
   "outputs": [],
   "source": [
    "@interact\n",
    "def display_liab_data(data = liab_model.data_dict.keys()):\n",
    "    return liab_model.data_dict[data]"
   ]
  },
  {
   "cell_type": "markdown",
   "id": "72d84b50",
   "metadata": {},
   "source": [
    "### COMPUTE FULFILLMENT RETURN"
   ]
  },
  {
   "cell_type": "code",
   "execution_count": null,
   "id": "a9ab1e29",
   "metadata": {},
   "outputs": [],
   "source": [
    "liab_model.compute_fulfill_ret(YRS_TO_FF, FF_RATIO)\n",
    "liab_model.fulfill_irr"
   ]
  },
  {
   "cell_type": "markdown",
   "id": "28e2c513",
   "metadata": {},
   "source": [
    "### COMPUTE FUTURE FUNDED STATUS"
   ]
  },
  {
   "cell_type": "code",
   "execution_count": null,
   "id": "fe5538a1",
   "metadata": {},
   "outputs": [],
   "source": [
    "liab_model.fulfill_solve(liab_model.fulfill_irr, YRS_TO_FF, FF_RATIO)"
   ]
  },
  {
   "cell_type": "markdown",
   "id": "6ab354ec",
   "metadata": {},
   "source": [
    "### EXCESS RETURN"
   ]
  },
  {
   "cell_type": "code",
   "execution_count": null,
   "id": "97bb30da",
   "metadata": {},
   "outputs": [],
   "source": [
    "liab_model.excess_return"
   ]
  },
  {
   "cell_type": "code",
   "execution_count": null,
   "id": "78bdb103",
   "metadata": {},
   "outputs": [],
   "source": [
    "liab_model.returns_ts.tail(12)"
   ]
  },
  {
   "cell_type": "code",
   "execution_count": null,
   "id": "0eb4de21",
   "metadata": {},
   "outputs": [],
   "source": []
  }
 ],
 "metadata": {
  "kernelspec": {
   "display_name": "Python 3",
   "language": "python",
   "name": "python3"
  },
  "language_info": {
   "codemirror_mode": {
    "name": "ipython",
    "version": 3
   },
   "file_extension": ".py",
   "mimetype": "text/x-python",
   "name": "python",
   "nbconvert_exporter": "python",
   "pygments_lexer": "ipython3",
   "version": "3.7.10"
  },
  "varInspector": {
   "cols": {
    "lenName": 16,
    "lenType": 16,
    "lenVar": 40
   },
   "kernels_config": {
    "python": {
     "delete_cmd_postfix": "",
     "delete_cmd_prefix": "del ",
     "library": "var_list.py",
     "varRefreshCmd": "print(var_dic_list())"
    },
    "r": {
     "delete_cmd_postfix": ") ",
     "delete_cmd_prefix": "rm(",
     "library": "var_list.r",
     "varRefreshCmd": "cat(var_dic_list()) "
    }
   },
   "oldHeight": 122.844,
   "position": {
    "height": "505.844px",
    "left": "1534px",
    "right": "20px",
    "top": "117px",
    "width": "357px"
   },
   "types_to_exclude": [
    "module",
    "function",
    "builtin_function_or_method",
    "instance",
    "_Feature"
   ],
   "varInspector_section_display": "block",
   "window_display": false
  }
 },
 "nbformat": 4,
 "nbformat_minor": 5
}
