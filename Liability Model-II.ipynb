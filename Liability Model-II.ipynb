{
 "cells": [
  {
   "cell_type": "markdown",
   "id": "397fe09e",
   "metadata": {},
   "source": [
    "### IMPORT LIBRARIES  "
   ]
  },
  {
   "cell_type": "code",
   "execution_count": null,
   "id": "00f6f92e",
   "metadata": {},
   "outputs": [],
   "source": [
    "from AssetAllocation.datamanger import datamanger as dm\n",
    "from AssetAllocation.analytics.liability_model import liabilityModel\n",
    "import pandas as pd\n",
    "from ipywidgets import interact, interact_manual, interactive\n",
    "\n",
    "# IBT or Pension or Retirement\n",
    "PLAN = 'IBT'\n",
    "\n",
    "# % Probability of Sponsor Not Contributing Service Costs\n",
    "UPS_CONTRB_PCT = .05\n",
    "\n",
    "# Target Years to be \"Fully Funded\"\n",
    "YRS_TO_FF = 20\n",
    "\n",
    "# Target Fully Funded Ratio\n",
    "FF_RATIO = 1.05"
   ]
  },
  {
   "cell_type": "markdown",
   "id": "dbf4387f",
   "metadata": {},
   "source": [
    "### IMPORT CASHFLOW AND DISC RATE DATA      "
   ]
  },
  {
   "cell_type": "code",
   "execution_count": null,
   "id": "3792da2c",
   "metadata": {},
   "outputs": [],
   "source": [
    "df_pbo_cfs = dm.get_cf_data('PBO')\n",
    "df_pvfb_cfs = dm.get_cf_data('PVFB')\n",
    "df_sc_cfs = df_pvfb_cfs - df_pbo_cfs\n",
    "df_ftse = dm.get_ftse_data()\n",
    "disc_rates = pd.read_excel(dm.TS_FP+\"discount_rate_data.xlsx\",sheet_name=PLAN ,usecols=[0,1],index_col=0)"
   ]
  },
  {
   "cell_type": "markdown",
   "id": "5b61bdc2",
   "metadata": {},
   "source": [
    "### VIEW DATA"
   ]
  },
  {
   "cell_type": "code",
   "execution_count": null,
   "id": "abf27612",
   "metadata": {},
   "outputs": [],
   "source": [
    "data_dict = {'pbo_cashflows': df_pbo_cfs, 'sc_cashflows': df_sc_cfs,\n",
    "            'pvfb_cashflows': df_pvfb_cfs,'ftse_data': df_ftse}\n",
    "@interact\n",
    "def display_data(data = data_dict.keys()):\n",
    "    return data_dict[data]"
   ]
  },
  {
   "cell_type": "markdown",
   "id": "f8f309e0",
   "metadata": {},
   "source": [
    "### TRANSFORM DATA TO LIABILITY MODEL INPUTS  "
   ]
  },
  {
   "cell_type": "code",
   "execution_count": null,
   "id": "24fc0808",
   "metadata": {},
   "outputs": [],
   "source": [
    "pbo_cashflows = df_pbo_cfs[PLAN]\n",
    "disc_factors = df_pbo_cfs['Time']\n",
    "sc_cashflows = df_sc_cfs[PLAN]\n",
    "liab_curve = dm.generate_liab_curve(df_ftse, pbo_cashflows)\n",
    "asset_mv = dm.get_plan_asset_mv(PLAN)"
   ]
  },
  {
   "cell_type": "markdown",
   "id": "f1cbac3f",
   "metadata": {},
   "source": [
    "### CREATE LIABILITY MODEL"
   ]
  },
  {
   "cell_type": "code",
   "execution_count": null,
   "id": "a9f30826",
   "metadata": {},
   "outputs": [],
   "source": [
    "liab_model = liabilityModel(pbo_cashflows, disc_factors, sc_cashflows, \n",
    "                                  liab_curve,disc_rates,UPS_CONTRB_PCT, asset_mv)"
   ]
  },
  {
   "cell_type": "markdown",
   "id": "160507e0",
   "metadata": {},
   "source": [
    "### COMPUTE FULFILLMENT RETURN"
   ]
  },
  {
   "cell_type": "code",
   "execution_count": null,
   "id": "fc0cfbe8",
   "metadata": {},
   "outputs": [],
   "source": [
    "liab_model.compute_fulfill_ret(YRS_TO_FF, FF_RATIO)\n",
    "liab_model.fulfill_irr"
   ]
  },
  {
   "cell_type": "markdown",
   "id": "16970f76",
   "metadata": {},
   "source": [
    "### COMPUTE FUTURE FUNDED STATUS"
   ]
  },
  {
   "cell_type": "code",
   "execution_count": null,
   "id": "94c8a80a",
   "metadata": {},
   "outputs": [],
   "source": [
    "liab_model.fulfill_solve(liab_model.fulfill_irr, YRS_TO_FF, FF_RATIO)"
   ]
  },
  {
   "cell_type": "markdown",
   "id": "4c18f200",
   "metadata": {},
   "source": [
    "### EXCESS RETURN"
   ]
  },
  {
   "cell_type": "code",
   "execution_count": null,
   "id": "f689dd8d",
   "metadata": {},
   "outputs": [],
   "source": [
    "liab_model.excess_return"
   ]
  },
  {
   "cell_type": "code",
   "execution_count": null,
   "id": "817bd11b",
   "metadata": {},
   "outputs": [],
   "source": []
  }
 ],
 "metadata": {
  "kernelspec": {
   "display_name": "Python 3",
   "language": "python",
   "name": "python3"
  },
  "language_info": {
   "codemirror_mode": {
    "name": "ipython",
    "version": 3
   },
   "file_extension": ".py",
   "mimetype": "text/x-python",
   "name": "python",
   "nbconvert_exporter": "python",
   "pygments_lexer": "ipython3",
   "version": "3.8.8"
  },
  "varInspector": {
   "cols": {
    "lenName": 16,
    "lenType": 16,
    "lenVar": 40
   },
   "kernels_config": {
    "python": {
     "delete_cmd_postfix": "",
     "delete_cmd_prefix": "del ",
     "library": "var_list.py",
     "varRefreshCmd": "print(var_dic_list())"
    },
    "r": {
     "delete_cmd_postfix": ") ",
     "delete_cmd_prefix": "rm(",
     "library": "var_list.r",
     "varRefreshCmd": "cat(var_dic_list()) "
    }
   },
   "oldHeight": 122.844,
   "position": {
    "height": "505.844px",
    "left": "1534px",
    "right": "20px",
    "top": "117px",
    "width": "357px"
   },
   "types_to_exclude": [
    "module",
    "function",
    "builtin_function_or_method",
    "instance",
    "_Feature"
   ],
   "varInspector_section_display": "block",
   "window_display": false
  }
 },
 "nbformat": 4,
 "nbformat_minor": 5
}
