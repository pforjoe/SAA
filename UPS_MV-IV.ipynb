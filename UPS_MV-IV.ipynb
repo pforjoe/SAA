{
 "cells": [
  {
   "cell_type": "code",
   "execution_count": null,
   "id": "176b448c",
   "metadata": {},
   "outputs": [],
   "source": [
    "from AssetAllocation.datamanger import datamanger as dm\n",
    "from AssetAllocation.analytics import summary\n",
    "from AssetAllocation.reporting import reports as rp\n",
    "import plotly.graph_objects as go\n",
    "import plotly.express as px"
   ]
  },
  {
   "cell_type": "code",
   "execution_count": null,
   "id": "09b5441a",
   "metadata": {},
   "outputs": [],
   "source": [
    "mv_inputs_dict = dm.get_mv_inputs_data('inputs_test.xlsx')\n",
    "mv_inputs = summary.get_mv_inputs(mv_inputs_dict)\n",
    "mv_outputs = summary.get_mv_output(mv_inputs, 'Equity')\n",
    "rp.get_output_report('output_from_mv', mv_outputs)"
   ]
  },
  {
   "cell_type": "code",
   "execution_count": null,
   "id": "8b2197f0",
   "metadata": {},
   "outputs": [],
   "source": [
    "ts_dict = dm.get_ts_data('return_data.xlsx')\n",
    "ts_outputs = summary.get_ts_output(ts_dict)\n",
    "rp.get_output_report('output_from_ts', ts_outputs)"
   ]
  },
  {
   "cell_type": "code",
   "execution_count": null,
   "id": "d49acc83",
   "metadata": {},
   "outputs": [],
   "source": [
    "#create plan object that has the relevant variables (cov, policy ret, var,fsv )\n",
    "summarized_output = dm.get_output_data('output.xlsx')\n",
    "plan = summary.get_plan_params(summarized_output)\n",
    "plan.symbols"
   ]
  },
  {
   "cell_type": "code",
   "execution_count": null,
   "id": "5304f9f8",
   "metadata": {},
   "outputs": [],
   "source": [
    "bnds = dm.get_bounds(dm.OUTPUTS_FP+'bounds.xlsx')\n",
    "bnds"
   ]
  },
  {
   "cell_type": "code",
   "execution_count": null,
   "id": "0bf2fbb8",
   "metadata": {},
   "outputs": [],
   "source": [
    "cons = ({'type': 'ineq', 'fun': lambda x: np.sum(x[1:3]) - 0.5},\n",
    "        {'type': 'eq', 'fun': lambda x: np.sum(x[0:len(plan)-1]) - x[3] - .02})"
   ]
  },
  {
   "cell_type": "code",
   "execution_count": null,
   "id": "410cd683",
   "metadata": {},
   "outputs": [],
   "source": [
    "# Optimizing for maximum sharpe ratio\n",
    "opt_sharpe = plan.optimize(plan.min_sharpe_ratio, bnds, cons)\n",
    "opt_sharpe"
   ]
  },
  {
   "cell_type": "code",
   "execution_count": null,
   "id": "a2147410",
   "metadata": {},
   "outputs": [],
   "source": [
    "# Optimizing for minimum variance\n",
    "opt_var = plan.optimize(plan.min_variance,bnds, cons)\n",
    "# opt_var\n",
    "min_ret = plan.portfolio_stats(opt_var['x'])[0]\n",
    "min_ret"
   ]
  },
  {
   "cell_type": "code",
   "execution_count": null,
   "id": "0a2545de",
   "metadata": {},
   "outputs": [],
   "source": [
    "# Optimizing for max return\n",
    "opt_ret = plan.optimize(plan.min_ret,bnds, cons)\n",
    "# opt_ret\n",
    "max_ret = np.around(plan.portfolio_stats(opt_ret['x']),4)[0]\n",
    "max_ret"
   ]
  },
  {
   "cell_type": "code",
   "execution_count": null,
   "id": "25cbfd7a",
   "metadata": {},
   "outputs": [],
   "source": [
    "#Getting data for efficient frontier portfolios\n",
    "target_rets = np.linspace(min_ret,max_ret,100)\n",
    "# target_rets = np.linspace(-.01,0.04,100)\n",
    "t_vols = []\n",
    "t_weights = []\n",
    "\n",
    "for tr in target_rets:\n",
    "    \n",
    "    ef_cons = ({'type': 'eq', 'fun': lambda x: plan.portfolio_stats(x)[0] - tr},\n",
    "               {'type': 'ineq', 'fun': lambda x: np.sum(x[1:3]) - 0.5},\n",
    "        {'type': 'eq', 'fun': lambda x: np.sum(x[0:len(plan)-1])-x[3] - .02})\n",
    "    \n",
    "    opt_ef = plan.optimize(plan.min_volatility, bnds, ef_cons)\n",
    "    \n",
    "    t_vols.append(opt_ef['fun'])\n",
    "    t_weights.append(opt_ef['x'])\n",
    "    \n",
    "target_vols = np.array(t_vols)\n",
    "target_weights = np.array(t_weights)\n",
    "optimized_weights = np.transpose(target_weights)\n",
    "# opt_ef"
   ]
  },
  {
   "cell_type": "code",
   "execution_count": null,
   "id": "67403582",
   "metadata": {},
   "outputs": [],
   "source": [
    "#Dataframe containing efficient frontier portfolios (return, vol, sharpe and weights)\n",
    "ports_df = dm.get_ports_df(target_rets, target_vols, target_weights, plan.symbols, raw=False)\n",
    "ports_df"
   ]
  },
  {
   "cell_type": "code",
   "execution_count": null,
   "id": "86e6641c",
   "metadata": {},
   "outputs": [],
   "source": [
    "#Asset Allocation Plot\n",
    "combo_list = [('15+ STRIPS','forestgreen'),('Long Corporate','lightgreen'), ('Ultra 30-Year UST Futures','greenyellow'),\n",
    "              ('Equity','deeppink'),('Liquid Alternatives','blue'),\n",
    "              ('Private Equity','darkred'),('Credit','yellow'),('Real Estate','orange'),\n",
    "              ('Equity Hedges','blueviolet'),('Cash','khaki')]\n",
    "\n",
    "fig = go.Figure()\n",
    "\n",
    "for combo in combo_list:\n",
    "    fig.add_trace(go.Scatter(\n",
    "     x= ports_df['Return'], y = ports_df[combo[0]],\n",
    "     name = combo[0],\n",
    "     mode = 'lines',\n",
    "     line=dict(width=0.5, color=combo[1]),\n",
    "     stackgroup = 'one'))\n",
    "fig.update_layout(\n",
    "        title = {'text':\"<b>Asset Allocation</b>\",'y':0.95,'x':0.5,'xanchor': 'center','yanchor': 'top'},\n",
    "        title_font_family = \"Calibri\",\n",
    "        titlefont = {\"size\":24},\n",
    "        xaxis = dict(ticksuffix=\"%\"),\n",
    "        yaxis = dict(ticksuffix=\"%\"),\n",
    "        legend_title=\"<b>Assets</b>\",\n",
    "        plot_bgcolor='White'\n",
    "    )\n",
    "fig.update_xaxes(title_font_family = \"Calibri\",title_text = \"<b>Returns</b>\",\n",
    "    title_font = {\"size\": 20},showline=True,linewidth=2,linecolor='black',mirror=False)\n",
    "fig.update_yaxes(title_font_family = \"Calibri\",title_text = \"<b>Weights</b>\",range=(0,162),title_font = {\"size\": 20},\n",
    "    showline=True,linewidth=2,linecolor='black',mirror=False)\n",
    "\n",
    "fig.show()"
   ]
  },
  {
   "cell_type": "code",
   "execution_count": null,
   "id": "f5d3b925",
   "metadata": {},
   "outputs": [],
   "source": [
    "#Plotly version of the Efficient Frontier plot\n",
    "\n",
    "fig = px.scatter(ports_df, x=\"Volatility\", y=\"Return\",color='Sharpe')\n",
    "fig.update_layout(\n",
    "    title={\n",
    "            'text': \"<b>Efficient Frontier Portfolio</b>\",\n",
    "            'y':0.9,\n",
    "            'x':0.5,'xanchor': 'center',\n",
    "            'yanchor': 'top'\n",
    "            },\n",
    "    title_font_family=\"Calibri\",\n",
    "    titlefont = {\"size\":20},\n",
    "        xaxis = dict(tickfont = dict(size=14),ticksuffix=\"%\"),\n",
    "       yaxis = dict(ticksuffix=\"%\"),\n",
    "#     legend_title=\"Strategies\",\n",
    "    showlegend=True,\n",
    "    plot_bgcolor='White'\n",
    "                 )\n",
    "fig.update_xaxes(title_font_family = \"Calibri\",title_text = \"<b>Expected Volatility</b>\",title_font = {\"size\": 20},\n",
    "                    showline=True,linewidth=2,linecolor='black',mirror=False)\n",
    "\n",
    "fig.update_yaxes(title_font_family = \"Calibri\",title_text = \"<b>Expected Return</b>\",title_font = {\"size\": 20},\n",
    "                 showline=True,linewidth=2,linecolor='black',mirror=False)\n",
    "fig.show()"
   ]
  },
  {
   "cell_type": "code",
   "execution_count": null,
   "id": "982d81a0",
   "metadata": {},
   "outputs": [],
   "source": [
    "#Export Efficient Frontier portfoio data to excel\n",
    "ports_df_2 = dm.get_ports_df(target_rets, target_vols, target_weights, plan.symbols)\n",
    "rp.get_ef_portfolios_report('et_portolios', ports_df_2)"
   ]
  },
  {
   "cell_type": "code",
   "execution_count": null,
   "id": "f5b5d0cb",
   "metadata": {},
   "outputs": [],
   "source": []
  }
 ],
 "metadata": {
  "kernelspec": {
   "display_name": "Python 3",
   "language": "python",
   "name": "python3"
  },
  "language_info": {
   "codemirror_mode": {
    "name": "ipython",
    "version": 3
   },
   "file_extension": ".py",
   "mimetype": "text/x-python",
   "name": "python",
   "nbconvert_exporter": "python",
   "pygments_lexer": "ipython3",
   "version": "3.7.3"
  },
  "latex_envs": {
   "LaTeX_envs_menu_present": true,
   "autoclose": false,
   "autocomplete": true,
   "bibliofile": "biblio.bib",
   "cite_by": "apalike",
   "current_citInitial": 1,
   "eqLabelWithNumbers": true,
   "eqNumInitial": 1,
   "hotkeys": {
    "equation": "Ctrl-E",
    "itemize": "Ctrl-I"
   },
   "labels_anchors": false,
   "latex_user_defs": false,
   "report_style_numbering": false,
   "user_envs_cfg": false
  },
  "toc": {
   "base_numbering": 1,
   "nav_menu": {},
   "number_sections": true,
   "sideBar": true,
   "skip_h1_title": false,
   "title_cell": "Table of Contents",
   "title_sidebar": "Contents",
   "toc_cell": false,
   "toc_position": {},
   "toc_section_display": true,
   "toc_window_display": false
  },
  "varInspector": {
   "cols": {
    "lenName": 16,
    "lenType": 16,
    "lenVar": 40
   },
   "kernels_config": {
    "python": {
     "delete_cmd_postfix": "",
     "delete_cmd_prefix": "del ",
     "library": "var_list.py",
     "varRefreshCmd": "print(var_dic_list())"
    },
    "r": {
     "delete_cmd_postfix": ") ",
     "delete_cmd_prefix": "rm(",
     "library": "var_list.r",
     "varRefreshCmd": "cat(var_dic_list()) "
    }
   },
   "types_to_exclude": [
    "module",
    "function",
    "builtin_function_or_method",
    "instance",
    "_Feature"
   ],
   "window_display": false
  }
 },
 "nbformat": 4,
 "nbformat_minor": 5
}
