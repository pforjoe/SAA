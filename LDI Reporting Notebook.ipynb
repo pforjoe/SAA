{
 "cells": [
  {
   "cell_type": "markdown",
   "id": "dd97791a",
   "metadata": {},
   "source": [
    "# Liability Model Notebook"
   ]
  },
  {
   "cell_type": "markdown",
   "id": "9c9edec1",
   "metadata": {},
   "source": [
    "## Import Libraries"
   ]
  },
  {
   "cell_type": "code",
   "execution_count": 1,
   "id": "27d38322",
   "metadata": {},
   "outputs": [],
   "source": [
    "import pandas as pd\n",
    "import seaborn as sns\n",
    "import matplotlib.pyplot as plt\n",
    "import numpy as np\n",
    "\n",
    "from AssetAllocation.reporting import reports as rp\n",
    "import AssetAllocation.analytics.summary as summary\n",
    "from AssetAllocation.reporting import formatter as fmt\n",
    "\n",
    "from ipywidgets import interact, interact_manual\n",
    "import ipywidgets as widgets\n",
    "contrb_pct = 0.0"
   ]
  },
  {
   "cell_type": "markdown",
   "id": "766d0a20",
   "metadata": {},
   "source": [
    "## Get Report Dictionary"
   ]
  },
  {
   "cell_type": "code",
   "execution_count": 2,
   "id": "6277225e",
   "metadata": {},
   "outputs": [],
   "source": [
    "report_dict = summary.get_report_dict(plan_list = ['Retirement', 'Pension', 'IBT',\"Total\"])"
   ]
  },
  {
   "cell_type": "markdown",
   "id": "00d5ee6e",
   "metadata": {},
   "source": [
    "## Display Asset and Liability Returns"
   ]
  },
  {
   "cell_type": "code",
   "execution_count": 3,
   "id": "02a4b9b2",
   "metadata": {},
   "outputs": [
    {
     "data": {
      "application/vnd.jupyter.widget-view+json": {
       "model_id": "ae7b0be62a10417bbe72735c3a12d807",
       "version_major": 2,
       "version_minor": 0
      },
      "text/plain": [
       "interactive(children=(Dropdown(description='Plan', options=('Retirement', 'Pension', 'IBT', 'Total'), value='R…"
      ]
     },
     "metadata": {},
     "output_type": "display_data"
    }
   ],
   "source": [
    "returns_plan = list(report_dict['asset_liab_ret_dict'].keys())\n",
    "@interact\n",
    "def display_asset_liab_mv(Plan = returns_plan):\n",
    "    rets = report_dict['asset_liab_ret_dict'][Plan].tail(13)\n",
    "    return fmt.get_plan_styler(rets)"
   ]
  },
  {
   "cell_type": "markdown",
   "id": "324a9d7b",
   "metadata": {},
   "source": [
    "## Display Asset and Liability Market Values"
   ]
  },
  {
   "cell_type": "code",
   "execution_count": 4,
   "id": "dbba6d73",
   "metadata": {},
   "outputs": [
    {
     "data": {
      "application/vnd.jupyter.widget-view+json": {
       "model_id": "65afc88ebcc743c5a22f3490e962c817",
       "version_major": 2,
       "version_minor": 0
      },
      "text/plain": [
       "interactive(children=(Dropdown(description='Plan', options=('Retirement', 'Pension', 'IBT', 'Total'), value='R…"
      ]
     },
     "metadata": {},
     "output_type": "display_data"
    }
   ],
   "source": [
    "plan = list(report_dict['asset_liab_mkt_val_dict'].keys())\n",
    "@interact\n",
    "def display_asset_liab_mv(Plan = plan):\n",
    "    return fmt.get_plan_styler(report_dict['asset_liab_mkt_val_dict'][Plan].tail(13), returns = False)"
   ]
  },
  {
   "cell_type": "markdown",
   "id": "0c734b51",
   "metadata": {},
   "source": [
    "## Display Funded Status"
   ]
  },
  {
   "cell_type": "code",
   "execution_count": 5,
   "id": "4b854e0a",
   "metadata": {},
   "outputs": [
    {
     "data": {
      "application/vnd.jupyter.widget-view+json": {
       "model_id": "f4c47989ce424059aa0a7cc2ee15070b",
       "version_major": 2,
       "version_minor": 0
      },
      "text/plain": [
       "interactive(children=(Dropdown(description='Plan', options=('Retirement', 'Pension', 'IBT', 'Total'), value='R…"
      ]
     },
     "metadata": {},
     "output_type": "display_data"
    }
   ],
   "source": [
    "plan = list(report_dict['fs_data'].keys())\n",
    "@interact\n",
    "def display_asset_liab_mv(Plan = plan):\n",
    "    return fmt.get_fs_data_styler(report_dict['fs_data'][Plan].tail(13))"
   ]
  },
  {
   "cell_type": "markdown",
   "id": "21cc5fc3",
   "metadata": {},
   "source": [
    "## Plot Funded Status Vol"
   ]
  },
  {
   "cell_type": "code",
   "execution_count": 8,
   "id": "a14a10a4",
   "metadata": {},
   "outputs": [
    {
     "data": {
      "application/vnd.jupyter.widget-view+json": {
       "model_id": "bba8989f867a4caaba1e590c55ba090f",
       "version_major": 2,
       "version_minor": 0
      },
      "text/plain": [
       "interactive(children=(Dropdown(description='Plan', options=('Retirement', 'Pension', 'IBT', 'Total'), value='R…"
      ]
     },
     "metadata": {},
     "output_type": "display_data"
    }
   ],
   "source": [
    "plan = list(report_dict['fs_data'].keys())\n",
    "import matplotlib.dates as mdates\n",
    "import matplotlib.ticker as mtick\n",
    "\n",
    "\n",
    "@interact\n",
    "def display_fs_vol(Plan = plan):\n",
    "    #get last 12 months of 1yr and 6mo vol data\n",
    "    fs_vol_1y = report_dict['fs_data'][Plan]['1Y FSV'].tail(12)\n",
    "    fs_vol_6mo = report_dict['fs_data'][Plan]['6mo FSV'].tail(12)\n",
    "    \n",
    "    #set theme\n",
    "    sns.set_style(\"whitegrid\", {'axes.grid' : False})\n",
    "    plt.gca().yaxis.grid(True)\n",
    "    \n",
    "    #set x and y axis\n",
    "    plt.gca().xaxis.set_major_formatter(mdates.DateFormatter('%Y-%m-%d'))\n",
    "    plt.gca().xaxis.set_major_locator(mdates.MonthLocator(interval=1, bymonthday = -1))\n",
    "    plt.gca().yaxis.set_major_formatter(mtick.PercentFormatter(xmax=1, decimals=None, symbol='%', is_latex=False))\n",
    "    \n",
    "    #plot 1yr vol and 6mo vol\n",
    "    plt.plot(fs_vol_1y, label = \"1yr FSV\", color = \"navy\")\n",
    "    plt.plot(fs_vol_6mo ,label = \"6mth FSV\", color = \"#ff8c00\")\n",
    "    \n",
    "    # Rotate X-Axis Ticks by 45-degrees\n",
    "    plt.xticks(rotation = 45) \n",
    "    #set title\n",
    "    plt.title(\"Realized Funded Status Volatility\")\n",
    "    plt.legend()\n",
    "    plt.show()"
   ]
  },
  {
   "cell_type": "markdown",
   "id": "820dce98",
   "metadata": {},
   "source": [
    "## Create Report\n",
    "\n",
    "Run this code below to export analysis into excel spreadsheet\n",
    "* **report_name (string)**: provide a name for the excel file"
   ]
  },
  {
   "cell_type": "code",
   "execution_count": 7,
   "id": "807cc64c",
   "metadata": {},
   "outputs": [
    {
     "ename": "SyntaxError",
     "evalue": "invalid syntax (Temp/ipykernel_9240/1927522566.py, line 1)",
     "output_type": "error",
     "traceback": [
      "\u001b[1;36m  File \u001b[1;32m\"C:\\Users\\RRQ1FYQ\\AppData\\Local\\Temp/ipykernel_9240/1927522566.py\"\u001b[1;36m, line \u001b[1;32m1\u001b[0m\n\u001b[1;33m    report_name =\u001b[0m\n\u001b[1;37m                  ^\u001b[0m\n\u001b[1;31mSyntaxError\u001b[0m\u001b[1;31m:\u001b[0m invalid syntax\n"
     ]
    }
   ],
   "source": [
    "report_name = \"test\"\n",
    "rp.get_liability_returns_report(report_dict,report_name = report_name)"
   ]
  },
  {
   "cell_type": "code",
   "execution_count": null,
   "id": "24ef84cc",
   "metadata": {},
   "outputs": [],
   "source": []
  }
 ],
 "metadata": {
  "kernelspec": {
   "display_name": "Python 3 (ipykernel)",
   "language": "python",
   "name": "python3"
  },
  "language_info": {
   "codemirror_mode": {
    "name": "ipython",
    "version": 3
   },
   "file_extension": ".py",
   "mimetype": "text/x-python",
   "name": "python",
   "nbconvert_exporter": "python",
   "pygments_lexer": "ipython3",
   "version": "3.9.7"
  }
 },
 "nbformat": 4,
 "nbformat_minor": 5
}
