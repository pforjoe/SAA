{
 "cells": [
  {
   "cell_type": "markdown",
   "id": "dd97791a",
   "metadata": {},
   "source": [
    "# Liability Model Notebook"
   ]
  },
  {
   "cell_type": "markdown",
   "id": "9c9edec1",
   "metadata": {},
   "source": [
    "## Import Libraries"
   ]
  },
  {
   "cell_type": "code",
   "execution_count": 2,
   "id": "27d38322",
   "metadata": {},
   "outputs": [],
   "source": [
    "import pandas as pd\n",
    "from AssetAllocation.datamanger import datamanger as dm\n",
    "from AssetAllocation.analytics.liability_model import liabilityModel\n",
    "import pandas as pd\n",
    "import numpy as np\n",
    "from scipy.optimize import fsolve\n",
    "import AssetAllocation.reporting.sheets as sheets\n",
    "from AssetAllocation.reporting import reports as rp\n",
    "import AssetAllocation.analytics.summary as summary\n",
    "from ipywidgets import interact, interact_manual\n",
    "import ipywidgets as widgets\n",
    "contrb_pct = 0.0"
   ]
  },
  {
   "cell_type": "markdown",
   "id": "831bd77b",
   "metadata": {},
   "source": [
    "## Get PBO Cash Flows,  Service Cost Cash Flows, FTSE Data, Discount Factors, and Liability Curve"
   ]
  },
  {
   "cell_type": "code",
   "execution_count": 3,
   "id": "a9b6a5b0",
   "metadata": {},
   "outputs": [],
   "source": [
    "df_pbo_cfs = dm.get_cf_data('PBO')\n",
    "df_sc_cfs = dm.get_cf_data('Service Cost')\n",
    "df_ftse = dm.get_ftse_data(False)\n",
    "disc_factors = df_pbo_cfs['Time']\n",
    "liab_curve = dm.generate_liab_curve(df_ftse, df_pbo_cfs[\"IBT\"])"
   ]
  },
  {
   "cell_type": "markdown",
   "id": "955e1e33",
   "metadata": {},
   "source": [
    "## Get Liability Model"
   ]
  },
  {
   "cell_type": "code",
   "execution_count": 7,
   "id": "9ee1ec21",
   "metadata": {},
   "outputs": [],
   "source": [
    "plan_list = ['Retirement', 'Pension', 'IBT',\"Total\"]\n",
    "liab_model_dict = summary.get_liab_model_dict(plan_list)"
   ]
  },
  {
   "cell_type": "markdown",
   "id": "1f6dfc6f",
   "metadata": {},
   "source": [
    "## Display Liability Model"
   ]
  },
  {
   "cell_type": "code",
   "execution_count": 8,
   "id": "02db8009",
   "metadata": {},
   "outputs": [
    {
     "data": {
      "application/vnd.jupyter.widget-view+json": {
       "model_id": "1d5bcef422e143e08c260713056444a7",
       "version_major": 2,
       "version_minor": 0
      },
      "text/plain": [
       "interactive(children=(Dropdown(description='plan', options=('Retirement', 'Pension', 'IBT', 'Total'), value='R…"
      ]
     },
     "metadata": {},
     "output_type": "display_data"
    }
   ],
   "source": [
    "data_choice = list(liab_model_dict['Retirement'].keys())\n",
    "@interact\n",
    "def display_liab_model(plan = plan_list, data = data_choice):\n",
    "    liab_model = liab_model_dict[plan][data]\n",
    "    return liab_model"
   ]
  },
  {
   "cell_type": "markdown",
   "id": "47a035ad",
   "metadata": {},
   "source": []
  }
 ],
 "metadata": {
  "kernelspec": {
   "display_name": "Python 3",
   "language": "python",
   "name": "python3"
  },
  "language_info": {
   "codemirror_mode": {
    "name": "ipython",
    "version": 3
   },
   "file_extension": ".py",
   "mimetype": "text/x-python",
   "name": "python",
   "nbconvert_exporter": "python",
   "pygments_lexer": "ipython3",
   "version": "3.8.8"
  }
 },
 "nbformat": 4,
 "nbformat_minor": 5
}
