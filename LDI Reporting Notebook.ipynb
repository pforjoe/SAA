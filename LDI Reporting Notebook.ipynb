{
 "cells": [
  {
   "cell_type": "markdown",
   "id": "dd97791a",
   "metadata": {},
   "source": [
    "# Liability Model Notebook"
   ]
  },
  {
   "cell_type": "markdown",
   "id": "9c9edec1",
   "metadata": {},
   "source": [
    "## Import Libraries"
   ]
  },
  {
   "cell_type": "code",
   "execution_count": null,
   "id": "27d38322",
   "metadata": {},
   "outputs": [],
   "source": [
    "import pandas as pd\n",
    "import seaborn as sns\n",
    "import matplotlib.pyplot as plt\n",
    "import numpy as np\n",
    "\n",
    "from AssetAllocation.reporting import reports as rp\n",
    "import AssetAllocation.analytics.summary as summary\n",
    "from AssetAllocation.reporting import formatter as fmt\n",
    "from AssetAllocation.reporting import plots as plot\n",
    "\n",
    "from ipywidgets import interact, interact_manual\n",
    "import ipywidgets as widgets\n",
    "\n",
    "contrb_pct = 0.0\n",
    "PLAN_LIST = ['Retirement', 'Pension', 'IBT',\"Total\"]"
   ]
  },
  {
   "cell_type": "markdown",
   "id": "766d0a20",
   "metadata": {},
   "source": [
    "## Get Report Dictionary"
   ]
  },
  {
   "cell_type": "code",
   "execution_count": null,
   "id": "6277225e",
   "metadata": {},
   "outputs": [],
   "source": [
    "report_dict = summary.get_report_dict(plan_list = PLAN_LIST)"
   ]
  },
  {
   "cell_type": "markdown",
   "id": "06e39709",
   "metadata": {},
   "source": [
    "## Display Liability Model"
   ]
  },
  {
   "cell_type": "code",
   "execution_count": null,
   "id": "e217ea87",
   "metadata": {},
   "outputs": [],
   "source": [
    "data = [\"Asset/Liability Market Values\", \"Asset/Liability Returns\", \"Present Values/IRR\", \"Funded Status\" , \"FS Vol Chart\"]\n",
    "@interact\n",
    "def display_liab_model(Plan = PLAN_LIST, Data = data):\n",
    "    if Data == \"Asset/Liability Market Values\":\n",
    "        return fmt.get_plan_styler(report_dict[Plan]['market_values'], returns = False)\n",
    "    if Data == \"Asset/Liability Returns\":\n",
    "        return fmt.get_plan_styler(report_dict[Plan]['returns'])\n",
    "    if Data == \"Present Values/IRR\":\n",
    "        return fmt.get_pv_irr_styler(report_dict[Plan]['pv_irr'])\n",
    "    if Data == \"Funded Status\":\n",
    "        return fmt.get_fs_data_styler(report_dict[Plan]['fs_data'])\n",
    "    if Data == \"FS Vol Chart\":\n",
    "        return plot.display_fs_vol(report_dict[Plan])\n",
    "        \n",
    "        "
   ]
  },
  {
   "cell_type": "markdown",
   "id": "820dce98",
   "metadata": {},
   "source": [
    "## Create Report\n",
    "\n",
    "Run this code below to export analysis into excel spreadsheet\n",
    "* **report_name (string)**: provide a name for the excel file"
   ]
  },
  {
   "cell_type": "code",
   "execution_count": null,
   "id": "807cc64c",
   "metadata": {},
   "outputs": [],
   "source": [
    "report_name = \"test\"\n",
    "rp.get_ldi_report(report_dict)"
   ]
  }
 ],
 "metadata": {
  "kernelspec": {
   "display_name": "Python 3 (ipykernel)",
   "language": "python",
   "name": "python3"
  },
  "language_info": {
   "codemirror_mode": {
    "name": "ipython",
    "version": 3
   },
   "file_extension": ".py",
   "mimetype": "text/x-python",
   "name": "python",
   "nbconvert_exporter": "python",
   "pygments_lexer": "ipython3",
   "version": "3.9.7"
  },
  "varInspector": {
   "cols": {
    "lenName": 16,
    "lenType": 16,
    "lenVar": 40
   },
   "kernels_config": {
    "python": {
     "delete_cmd_postfix": "",
     "delete_cmd_prefix": "del ",
     "library": "var_list.py",
     "varRefreshCmd": "print(var_dic_list())"
    },
    "r": {
     "delete_cmd_postfix": ") ",
     "delete_cmd_prefix": "rm(",
     "library": "var_list.r",
     "varRefreshCmd": "cat(var_dic_list()) "
    }
   },
   "types_to_exclude": [
    "module",
    "function",
    "builtin_function_or_method",
    "instance",
    "_Feature"
   ],
   "window_display": false
  }
 },
 "nbformat": 4,
 "nbformat_minor": 5
}
