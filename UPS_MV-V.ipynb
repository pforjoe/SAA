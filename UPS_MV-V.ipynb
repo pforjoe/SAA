{
 "cells": [
  {
   "cell_type": "markdown",
   "id": "6a5c9a70",
   "metadata": {},
   "source": [
    "# UPS MV Framework"
   ]
  },
  {
   "cell_type": "markdown",
   "id": "96c24c17",
   "metadata": {},
   "source": [
    "### Import Libraries"
   ]
  },
  {
   "cell_type": "code",
   "execution_count": 1,
   "id": "0f38aae0",
   "metadata": {},
   "outputs": [],
   "source": [
    "from AssetAllocation.datamanger import datamanger as dm\n",
    "from AssetAllocation.analytics import summary\n",
    "from AssetAllocation.reporting import reports as rp, plots, formatter as fmt\n",
    "from ipywidgets import interact, interact_manual, interactive\n",
    "import numpy as np\n",
    "\n",
    "PLAN = 'IBT'"
   ]
  },
  {
   "cell_type": "markdown",
   "id": "3d5d6328",
   "metadata": {},
   "source": [
    "### Model liability of Plan"
   ]
  },
  {
   "cell_type": "code",
   "execution_count": 2,
   "id": "8da0ecfd",
   "metadata": {},
   "outputs": [
    {
     "ename": "IndexError",
     "evalue": "index 0 is out of bounds for axis 0 with size 0",
     "output_type": "error",
     "traceback": [
      "\u001b[1;31m---------------------------------------------------------------------------\u001b[0m",
      "\u001b[1;31mIndexError\u001b[0m                                Traceback (most recent call last)",
      "\u001b[1;32m<ipython-input-2-607cabf9a156>\u001b[0m in \u001b[0;36m<module>\u001b[1;34m\u001b[0m\n\u001b[1;32m----> 1\u001b[1;33m \u001b[0mliab_model\u001b[0m \u001b[1;33m=\u001b[0m \u001b[0msummary\u001b[0m\u001b[1;33m.\u001b[0m\u001b[0mget_liab_model\u001b[0m\u001b[1;33m(\u001b[0m\u001b[0mPLAN\u001b[0m\u001b[1;33m)\u001b[0m\u001b[1;33m\u001b[0m\u001b[1;33m\u001b[0m\u001b[0m\n\u001b[0m",
      "\u001b[1;32m~\\Documents\\UPS_MV\\AssetAllocation\\analytics\\summary.py\u001b[0m in \u001b[0;36mget_liab_model\u001b[1;34m(plan, contrb_pct)\u001b[0m\n\u001b[0;32m     43\u001b[0m \u001b[1;32mdef\u001b[0m \u001b[0mget_liab_model\u001b[0m\u001b[1;33m(\u001b[0m\u001b[0mplan\u001b[0m\u001b[1;33m=\u001b[0m\u001b[1;34m'IBT'\u001b[0m\u001b[1;33m,\u001b[0m \u001b[0mcontrb_pct\u001b[0m\u001b[1;33m=\u001b[0m\u001b[1;36m.05\u001b[0m\u001b[1;33m)\u001b[0m\u001b[1;33m:\u001b[0m\u001b[1;33m\u001b[0m\u001b[1;33m\u001b[0m\u001b[0m\n\u001b[0;32m     44\u001b[0m     \u001b[0mliab_input_dict\u001b[0m \u001b[1;33m=\u001b[0m \u001b[0mdm\u001b[0m\u001b[1;33m.\u001b[0m\u001b[0mget_liab_model_data\u001b[0m\u001b[1;33m(\u001b[0m\u001b[0mplan\u001b[0m\u001b[1;33m,\u001b[0m \u001b[0mcontrb_pct\u001b[0m\u001b[1;33m)\u001b[0m\u001b[1;33m\u001b[0m\u001b[1;33m\u001b[0m\u001b[0m\n\u001b[1;32m---> 45\u001b[1;33m     return liabilityModel(liab_input_dict['pbo_cashflows'], liab_input_dict['disc_factors'], \n\u001b[0m\u001b[0;32m     46\u001b[0m                           \u001b[0mliab_input_dict\u001b[0m\u001b[1;33m[\u001b[0m\u001b[1;34m'sc_cashflows'\u001b[0m\u001b[1;33m]\u001b[0m\u001b[1;33m,\u001b[0m \u001b[0mliab_input_dict\u001b[0m\u001b[1;33m[\u001b[0m\u001b[1;34m'contrb_pct'\u001b[0m\u001b[1;33m]\u001b[0m\u001b[1;33m,\u001b[0m\u001b[1;33m\u001b[0m\u001b[1;33m\u001b[0m\u001b[0m\n\u001b[0;32m     47\u001b[0m                           \u001b[0mliab_input_dict\u001b[0m\u001b[1;33m[\u001b[0m\u001b[1;34m'asset_mv'\u001b[0m\u001b[1;33m]\u001b[0m\u001b[1;33m,\u001b[0m \u001b[0mliab_input_dict\u001b[0m\u001b[1;33m[\u001b[0m\u001b[1;34m'liab_curve'\u001b[0m\u001b[1;33m]\u001b[0m\u001b[1;33m,\u001b[0m\u001b[1;33m\u001b[0m\u001b[1;33m\u001b[0m\u001b[0m\n",
      "\u001b[1;32m~\\Documents\\UPS_MV\\AssetAllocation\\analytics\\liability_model.py\u001b[0m in \u001b[0;36m__init__\u001b[1;34m(self, pbo_cashflows, disc_factors, sc_cashflows, contrb_pct, asset_mv, asset_returns, liab_curve, disc_rates)\u001b[0m\n\u001b[0;32m     54\u001b[0m         \u001b[0mself\u001b[0m\u001b[1;33m.\u001b[0m\u001b[0mirr_df\u001b[0m \u001b[1;33m=\u001b[0m \u001b[0mself\u001b[0m\u001b[1;33m.\u001b[0m\u001b[0mcompute_irr\u001b[0m\u001b[1;33m(\u001b[0m\u001b[1;33m)\u001b[0m\u001b[1;33m\u001b[0m\u001b[1;33m\u001b[0m\u001b[0m\n\u001b[0;32m     55\u001b[0m         \u001b[0mself\u001b[0m\u001b[1;33m.\u001b[0m\u001b[0mreturns_ts\u001b[0m \u001b[1;33m=\u001b[0m \u001b[0mself\u001b[0m\u001b[1;33m.\u001b[0m\u001b[0mcompute_liab_ret\u001b[0m\u001b[1;33m(\u001b[0m\u001b[1;33m)\u001b[0m\u001b[1;33m\u001b[0m\u001b[1;33m\u001b[0m\u001b[0m\n\u001b[1;32m---> 56\u001b[1;33m         \u001b[0mself\u001b[0m\u001b[1;33m.\u001b[0m\u001b[0mfunded_status\u001b[0m \u001b[1;33m=\u001b[0m \u001b[0mself\u001b[0m\u001b[1;33m.\u001b[0m\u001b[0mcompute_funded_status\u001b[0m\u001b[1;33m(\u001b[0m\u001b[1;33m)\u001b[0m\u001b[1;33m\u001b[0m\u001b[1;33m\u001b[0m\u001b[0m\n\u001b[0m\u001b[0;32m     57\u001b[0m         \u001b[0mself\u001b[0m\u001b[1;33m.\u001b[0m\u001b[0mfulfill_irr\u001b[0m \u001b[1;33m=\u001b[0m \u001b[1;32mNone\u001b[0m\u001b[1;33m\u001b[0m\u001b[1;33m\u001b[0m\u001b[0m\n\u001b[0;32m     58\u001b[0m         \u001b[0mself\u001b[0m\u001b[1;33m.\u001b[0m\u001b[0mexcess_return\u001b[0m \u001b[1;33m=\u001b[0m \u001b[1;32mNone\u001b[0m\u001b[1;33m\u001b[0m\u001b[1;33m\u001b[0m\u001b[0m\n",
      "\u001b[1;32m~\\Documents\\UPS_MV\\AssetAllocation\\analytics\\liability_model.py\u001b[0m in \u001b[0;36mcompute_funded_status\u001b[1;34m(self)\u001b[0m\n\u001b[0;32m    147\u001b[0m \u001b[1;33m\u001b[0m\u001b[0m\n\u001b[0;32m    148\u001b[0m     \u001b[1;32mdef\u001b[0m \u001b[0mcompute_funded_status\u001b[0m\u001b[1;33m(\u001b[0m\u001b[0mself\u001b[0m\u001b[1;33m)\u001b[0m\u001b[1;33m:\u001b[0m\u001b[1;33m\u001b[0m\u001b[1;33m\u001b[0m\u001b[0m\n\u001b[1;32m--> 149\u001b[1;33m         \u001b[1;32mreturn\u001b[0m \u001b[0mself\u001b[0m\u001b[1;33m.\u001b[0m\u001b[0masset_mv\u001b[0m\u001b[1;33m.\u001b[0m\u001b[0miloc\u001b[0m\u001b[1;33m[\u001b[0m\u001b[1;33m-\u001b[0m\u001b[1;36m1\u001b[0m\u001b[1;33m:\u001b[0m\u001b[1;33m]\u001b[0m\u001b[1;33m/\u001b[0m\u001b[0mself\u001b[0m\u001b[1;33m.\u001b[0m\u001b[0mpresent_values\u001b[0m\u001b[1;33m.\u001b[0m\u001b[0miloc\u001b[0m\u001b[1;33m[\u001b[0m\u001b[1;33m-\u001b[0m\u001b[1;36m1\u001b[0m\u001b[1;33m:\u001b[0m\u001b[1;33m]\u001b[0m\u001b[1;33m[\u001b[0m\u001b[1;34m'Present Value'\u001b[0m\u001b[1;33m]\u001b[0m\u001b[1;33m[\u001b[0m\u001b[1;36m0\u001b[0m\u001b[1;33m]\u001b[0m\u001b[1;33m\u001b[0m\u001b[1;33m\u001b[0m\u001b[0m\n\u001b[0m\u001b[0;32m    150\u001b[0m     \u001b[1;31m#self.asset_mv.iloc[-1:]['Market Value'][0]/self.present_values.iloc[-1:]['Present Value'][0]\u001b[0m\u001b[1;33m\u001b[0m\u001b[1;33m\u001b[0m\u001b[1;33m\u001b[0m\u001b[0m\n\u001b[0;32m    151\u001b[0m     \u001b[1;32mdef\u001b[0m \u001b[0mget_return\u001b[0m\u001b[1;33m(\u001b[0m\u001b[0mself\u001b[0m\u001b[1;33m)\u001b[0m\u001b[1;33m:\u001b[0m\u001b[1;33m\u001b[0m\u001b[1;33m\u001b[0m\u001b[0m\n",
      "\u001b[1;32m~\\Documents\\New Folder\\lib\\site-packages\\pandas\\core\\series.py\u001b[0m in \u001b[0;36m__getitem__\u001b[1;34m(self, key)\u001b[0m\n\u001b[0;32m    848\u001b[0m \u001b[1;33m\u001b[0m\u001b[0m\n\u001b[0;32m    849\u001b[0m         \u001b[1;32mif\u001b[0m \u001b[0mis_integer\u001b[0m\u001b[1;33m(\u001b[0m\u001b[0mkey\u001b[0m\u001b[1;33m)\u001b[0m \u001b[1;32mand\u001b[0m \u001b[0mself\u001b[0m\u001b[1;33m.\u001b[0m\u001b[0mindex\u001b[0m\u001b[1;33m.\u001b[0m\u001b[0m_should_fallback_to_positional\u001b[0m\u001b[1;33m(\u001b[0m\u001b[1;33m)\u001b[0m\u001b[1;33m:\u001b[0m\u001b[1;33m\u001b[0m\u001b[1;33m\u001b[0m\u001b[0m\n\u001b[1;32m--> 850\u001b[1;33m             \u001b[1;32mreturn\u001b[0m \u001b[0mself\u001b[0m\u001b[1;33m.\u001b[0m\u001b[0m_values\u001b[0m\u001b[1;33m[\u001b[0m\u001b[0mkey\u001b[0m\u001b[1;33m]\u001b[0m\u001b[1;33m\u001b[0m\u001b[1;33m\u001b[0m\u001b[0m\n\u001b[0m\u001b[0;32m    851\u001b[0m \u001b[1;33m\u001b[0m\u001b[0m\n\u001b[0;32m    852\u001b[0m         \u001b[1;32melif\u001b[0m \u001b[0mkey_is_scalar\u001b[0m\u001b[1;33m:\u001b[0m\u001b[1;33m\u001b[0m\u001b[1;33m\u001b[0m\u001b[0m\n",
      "\u001b[1;31mIndexError\u001b[0m: index 0 is out of bounds for axis 0 with size 0"
     ]
    }
   ],
   "source": [
    "liab_model = summary.get_liab_model(PLAN)"
   ]
  },
  {
   "cell_type": "markdown",
   "id": "d7579d21",
   "metadata": {},
   "source": [
    "### Compute plan inputs"
   ]
  },
  {
   "cell_type": "code",
   "execution_count": null,
   "id": "811d69a5",
   "metadata": {},
   "outputs": [],
   "source": [
    "pp_inputs = summary.get_pp_inputs(liab_model,PLAN)"
   ]
  },
  {
   "cell_type": "markdown",
   "id": "da4a599a",
   "metadata": {},
   "source": [
    "### Initialize plan object and display relevant variables"
   ]
  },
  {
   "cell_type": "code",
   "execution_count": null,
   "id": "de91585a",
   "metadata": {},
   "outputs": [],
   "source": [
    "plan = summary.get_plan_params(pp_inputs)\n",
    "\n",
    "pp_dict = plan.get_pp_dict()\n",
    "@interact\n",
    "def display_pp_inputs(variable=pp_dict.keys()):\n",
    "    if variable == 'Corr' or variable == 'Cov':\n",
    "        return plots.draw_heatmap(pp_dict[variable], half=False)\n",
    "    else:\n",
    "        return fmt.get_plan_styler(pp_dict[variable])"
   ]
  },
  {
   "cell_type": "markdown",
   "id": "a2e8031d",
   "metadata": {},
   "source": [
    "### Define bounds\n",
    "* Bounds data is stored in **'data/plan_inputs/bounds.xlsx'** by plan"
   ]
  },
  {
   "cell_type": "code",
   "execution_count": null,
   "id": "daea33a8",
   "metadata": {},
   "outputs": [],
   "source": [
    "bnds = dm.get_bounds(liab_model,plan=PLAN)\n",
    "\n",
    "@interact\n",
    "def view_update_bnds(asset = plan.bnds_dict['asset_list'],reset=False,\n",
    "                     lower=plan.bnds_dict['lower_bnd'],upper=plan.bnds_dict['upper_bnd'],reset_asset=False):\n",
    "    if lower:\n",
    "        fmt.update_lower_bnds(bnds, asset,lower,plan)\n",
    "    if upper:\n",
    "        fmt.update_upper_bnds(bnds, asset,upper,plan)\n",
    "    if reset:\n",
    "        fmt.reset_bnds(bnds,PLAN)\n",
    "    if reset_asset:\n",
    "        fmt.reset_asset_bnds(bnds,asset,PLAN)\n",
    "    return fmt.get_plan_styler(bnds)"
   ]
  },
  {
   "cell_type": "markdown",
   "id": "2c1a0762",
   "metadata": {},
   "source": [
    "### Define contraints to optimize for min and max return\n",
    "* Current constraints:\n",
    "    * 45% <= sum(Fixed Income Assets weights) <= 55%\n",
    "    * sum(All plan assets weights (excluding Futures & Hedges)) = Funded Status Diff\n",
    "    * Hedges weights <= sum(50% of Equity & Private Equity weights)\n",
    "    * 15+ STRIPS weight >= sum(50% of Futures and 25% of Hedges weights)"
   ]
  },
  {
   "cell_type": "code",
   "execution_count": null,
   "id": "8496dfef",
   "metadata": {},
   "outputs": [],
   "source": [
    "cons = (\n",
    "        # 45% <= sum of Fixed Income Assets <= 55%\n",
    "        {'type': 'ineq', 'fun': lambda x: np.sum(x[1:3]) - 0.45*plan.funded_status},\n",
    "        {'type': 'ineq', 'fun': lambda x: .55*plan.funded_status - np.sum(x[1:3])},\n",
    "        #sum of all plan assets (excluding Futures and Hedges) = Funded Status Difference    \n",
    "        {'type': 'eq', 'fun': lambda x: np.sum(x[0:len(plan)-1]) - x[3] + (1-plan.funded_status)},\n",
    "        # Hedges <= 50% of Equity & PE\n",
    "        {'type': 'ineq', 'fun': lambda x: (x[4]+x[6])*.5 - x[len(plan)-1]},\n",
    "        # 15+ STRIPS >= sum(50% of Futures and 25% of Hedges weights)\n",
    "        {'type': 'ineq', 'fun': lambda x: x[1] - (x[3]/2+x[len(plan)-1]/4)}\n",
    ")"
   ]
  },
  {
   "cell_type": "markdown",
   "id": "65677e93",
   "metadata": {},
   "source": [
    "### Compute and Display MV Efficient Frontier portfolios"
   ]
  },
  {
   "cell_type": "code",
   "execution_count": null,
   "id": "f386c65f",
   "metadata": {
    "scrolled": true
   },
   "outputs": [],
   "source": [
    "#Get data for MV efficient frontier portfolios\n",
    "plan.compute_eff_frontier(bnds,cons,num_ports=100)\n",
    "fmt.get_port_styler(plan.ports_df)"
   ]
  },
  {
   "cell_type": "markdown",
   "id": "1943a7ca",
   "metadata": {},
   "source": [
    "### Display MV Asset Allocation"
   ]
  },
  {
   "cell_type": "code",
   "execution_count": null,
   "id": "86df632d",
   "metadata": {},
   "outputs": [],
   "source": [
    "#Asset Allocation Plot\n",
    "aa_fig = plots.get_aa_fig(plan.ports_df)\n",
    "aa_fig.show()"
   ]
  },
  {
   "cell_type": "markdown",
   "id": "e2d6c67c",
   "metadata": {},
   "source": [
    "### Display MV Efficient Frontier"
   ]
  },
  {
   "cell_type": "code",
   "execution_count": null,
   "id": "05c5bcbd",
   "metadata": {},
   "outputs": [],
   "source": [
    "#Plotly version of the Efficient Frontier plot\n",
    "ef_fig = plots.get_ef_fig(plan.ports_df)\n",
    "ef_fig.show()"
   ]
  },
  {
   "cell_type": "markdown",
   "id": "f05c7e36",
   "metadata": {},
   "source": [
    "### Export data to excel"
   ]
  },
  {
   "cell_type": "code",
   "execution_count": null,
   "id": "45c46a76",
   "metadata": {
    "scrolled": true
   },
   "outputs": [],
   "source": [
    "#Export Efficient Frontier portfoio data to excel\n",
    "rp.get_ef_portfolios_report(PLAN+'_ef_portfolios', plan,bnds)"
   ]
  },
  {
   "cell_type": "code",
   "execution_count": null,
   "id": "b03265ed",
   "metadata": {},
   "outputs": [],
   "source": []
  }
 ],
 "metadata": {
  "kernelspec": {
   "display_name": "Python 3",
   "language": "python",
   "name": "python3"
  },
  "language_info": {
   "codemirror_mode": {
    "name": "ipython",
    "version": 3
   },
   "file_extension": ".py",
   "mimetype": "text/x-python",
   "name": "python",
   "nbconvert_exporter": "python",
   "pygments_lexer": "ipython3",
   "version": "3.8.8"
  },
  "latex_envs": {
   "LaTeX_envs_menu_present": true,
   "autoclose": false,
   "autocomplete": true,
   "bibliofile": "biblio.bib",
   "cite_by": "apalike",
   "current_citInitial": 1,
   "eqLabelWithNumbers": true,
   "eqNumInitial": 1,
   "hotkeys": {
    "equation": "Ctrl-E",
    "itemize": "Ctrl-I"
   },
   "labels_anchors": false,
   "latex_user_defs": false,
   "report_style_numbering": false,
   "user_envs_cfg": false
  },
  "toc": {
   "base_numbering": 1,
   "nav_menu": {},
   "number_sections": true,
   "sideBar": true,
   "skip_h1_title": false,
   "title_cell": "Table of Contents",
   "title_sidebar": "Contents",
   "toc_cell": false,
   "toc_position": {},
   "toc_section_display": true,
   "toc_window_display": false
  },
  "varInspector": {
   "cols": {
    "lenName": 16,
    "lenType": 16,
    "lenVar": 40
   },
   "kernels_config": {
    "python": {
     "delete_cmd_postfix": "",
     "delete_cmd_prefix": "del ",
     "library": "var_list.py",
     "varRefreshCmd": "print(var_dic_list())"
    },
    "r": {
     "delete_cmd_postfix": ") ",
     "delete_cmd_prefix": "rm(",
     "library": "var_list.r",
     "varRefreshCmd": "cat(var_dic_list()) "
    }
   },
   "types_to_exclude": [
    "module",
    "function",
    "builtin_function_or_method",
    "instance",
    "_Feature"
   ],
   "window_display": false
  }
 },
 "nbformat": 4,
 "nbformat_minor": 5
}
