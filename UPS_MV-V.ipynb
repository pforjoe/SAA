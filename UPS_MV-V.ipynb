{
 "cells": [
  {
   "cell_type": "markdown",
   "id": "8f4035d5",
   "metadata": {},
   "source": [
    "# UPS MV Framework"
   ]
  },
  {
   "cell_type": "markdown",
   "id": "7a0b62f3",
   "metadata": {},
   "source": [
    "### Import Libraries"
   ]
  },
  {
   "cell_type": "code",
   "execution_count": null,
   "id": "8ced76cb",
   "metadata": {},
   "outputs": [],
   "source": [
    "from AssetAllocation.datamanager import datamanager as dm\n",
    "from AssetAllocation.analytics import summary\n",
    "from AssetAllocation.reporting import reports as rp, plots, formatter as fmt\n",
    "from ipywidgets import interact, interact_manual, interactive\n",
    "import numpy as np\n",
    "\n",
    "liab_inputs_data_dict = dm.get_liab_data_inputs()\n",
    "\n",
    "PLAN = 'IBT'"
   ]
  },
  {
   "cell_type": "markdown",
   "id": "4b3e216d",
   "metadata": {},
   "source": [
    "### Model liability of Plan"
   ]
  },
  {
   "cell_type": "code",
   "execution_count": null,
   "id": "89963033",
   "metadata": {},
   "outputs": [],
   "source": [
    "liab_model = summary.get_liab_model_new(liab_inputs_data_dict, PLAN, .05)"
   ]
  },
  {
   "cell_type": "markdown",
   "id": "9c8e9aec",
   "metadata": {},
   "source": [
    "### Compute plan inputs"
   ]
  },
  {
   "cell_type": "code",
   "execution_count": null,
   "id": "afd4ab38",
   "metadata": {},
   "outputs": [],
   "source": [
    "pp_inputs = summary.get_pp_inputs(liab_model,PLAN)"
   ]
  },
  {
   "cell_type": "markdown",
   "id": "480277e4",
   "metadata": {},
   "source": [
    "### Initialize plan object and display relevant variables"
   ]
  },
  {
   "cell_type": "code",
   "execution_count": null,
   "id": "0779d244",
   "metadata": {},
   "outputs": [],
   "source": [
    "plan = summary.get_plan_params(pp_inputs)\n",
    "\n",
    "pp_dict = plan.get_pp_dict()\n",
    "@interact\n",
    "def display_pp_inputs(variable=pp_dict.keys()):\n",
    "    if variable == 'Corr' or variable == 'Cov':\n",
    "        return plots.draw_heatmap(pp_dict[variable], half=False)\n",
    "    else:\n",
    "        return fmt.get_plan_styler(pp_dict[variable])"
   ]
  },
  {
   "cell_type": "code",
   "execution_count": null,
   "id": "3bf148af",
   "metadata": {},
   "outputs": [],
   "source": [
    "plan.funded_status"
   ]
  },
  {
   "cell_type": "markdown",
   "id": "8608292f",
   "metadata": {},
   "source": [
    "### Define bounds\n",
    "* Bounds data is stored in **'data/plan_inputs/bounds.xlsx'** by plan"
   ]
  },
  {
   "cell_type": "code",
   "execution_count": null,
   "id": "b54c5f2a",
   "metadata": {},
   "outputs": [],
   "source": [
    "bnds = dm.get_bounds(plan.funded_status,plan=PLAN)\n",
    "\n",
    "@interact\n",
    "def view_update_bnds(asset = plan.bnds_dict['asset_list'],reset=False,\n",
    "                     lower=plan.bnds_dict['lower_bnd'],upper=plan.bnds_dict['upper_bnd'],reset_asset=False):\n",
    "    if lower:\n",
    "        fmt.update_lower_bnds(bnds, asset,lower,plan)\n",
    "    if upper:\n",
    "        fmt.update_upper_bnds(bnds, asset,upper,plan)\n",
    "    if reset:\n",
    "        fmt.reset_bnds(bnds,PLAN)\n",
    "    if reset_asset:\n",
    "        fmt.reset_asset_bnds(bnds,asset,PLAN)\n",
    "    return fmt.get_plan_styler(bnds)"
   ]
  },
  {
   "cell_type": "markdown",
   "id": "c4566310",
   "metadata": {},
   "source": [
    "### Define contraints to optimize for min and max return\n",
    "* Current constraints:\n",
    "    * 45% <= sum(Fixed Income Assets weights) <= 55%\n",
    "    * sum(All plan assets weights (excluding Futures & Hedges)) = Funded Status Diff\n",
    "    * Hedges weights <= sum(50% of Equity & Private Equity weights)\n",
    "    * 15+ STRIPS weight >= sum(50% of Futures and 25% of Hedges weights)"
   ]
  },
  {
   "cell_type": "code",
   "execution_count": null,
   "id": "eeb01dbd",
   "metadata": {},
   "outputs": [],
   "source": [
    "cons = (\n",
    "        # 45% <= sum of Fixed Income Assets <= 55%\n",
    "        {'type': 'ineq', 'fun': lambda x: np.sum(x[1:3]) - 0.45*plan.funded_status},\n",
    "        {'type': 'ineq', 'fun': lambda x: .55*plan.funded_status - np.sum(x[1:3])},\n",
    "        #sum of all plan assets (excluding Futures and Hedges) = Funded Status Difference    \n",
    "        {'type': 'eq', 'fun': lambda x: np.sum(x[0:len(plan)-1]) - x[3] + (1-plan.funded_status)},\n",
    "        # Hedges <= 50% of Equity & PE\n",
    "        {'type': 'ineq', 'fun': lambda x: (x[4]+x[6])*.5 - x[len(plan)-1]},\n",
    "        # 15+ STRIPS >= sum(50% of Futures and 25% of Hedges weights)\n",
    "        {'type': 'ineq', 'fun': lambda x: x[1] - (x[3]/2+x[len(plan)-1]/4)}\n",
    ")"
   ]
  },
  {
   "cell_type": "markdown",
   "id": "8b36dc84",
   "metadata": {},
   "source": [
    "### Compute and Display MV Efficient Frontier portfolios"
   ]
  },
  {
   "cell_type": "code",
   "execution_count": null,
   "id": "0f6ec1f1",
   "metadata": {
    "scrolled": true
   },
   "outputs": [],
   "source": [
    "#Get data for MV efficient frontier portfolios\n",
    "plan.compute_eff_frontier(bnds,cons,num_ports=100)\n",
    "fmt.get_port_styler(plan.ports_df)"
   ]
  },
  {
   "cell_type": "markdown",
   "id": "df34af5b",
   "metadata": {},
   "source": [
    "### Display MV Asset Allocation"
   ]
  },
  {
   "cell_type": "code",
   "execution_count": null,
   "id": "a4c96f04",
   "metadata": {},
   "outputs": [],
   "source": [
    "#Asset Allocation Plot\n",
    "aa_fig = plots.get_aa_fig(plan.ports_df)\n",
    "aa_fig.show()"
   ]
  },
  {
   "cell_type": "markdown",
   "id": "181c2a91",
   "metadata": {},
   "source": [
    "### Display MV Efficient Frontier"
   ]
  },
  {
   "cell_type": "code",
   "execution_count": null,
   "id": "99de5d80",
   "metadata": {},
   "outputs": [],
   "source": [
    "#Plotly version of the Efficient Frontier plot\n",
    "ef_fig = plots.get_ef_fig(plan.ports_df)\n",
    "ef_fig.show()"
   ]
  },
  {
   "cell_type": "markdown",
   "id": "d7d365e5",
   "metadata": {},
   "source": [
    "### Export data to excel"
   ]
  },
  {
   "cell_type": "code",
   "execution_count": null,
   "id": "a3d3f237",
   "metadata": {
    "scrolled": true
   },
   "outputs": [],
   "source": [
    "#Export Efficient Frontier portfoio data to excel\n",
    "rp.get_ef_portfolios_report(PLAN+'_ef_portfolios', plan,bnds)"
   ]
  },
  {
   "cell_type": "code",
   "execution_count": null,
   "id": "327b1d8e",
   "metadata": {},
   "outputs": [],
   "source": []
  }
 ],
 "metadata": {
  "kernelspec": {
   "display_name": "Python 3 (ipykernel)",
   "language": "python",
   "name": "python3"
  },
  "language_info": {
   "codemirror_mode": {
    "name": "ipython",
    "version": 3
   },
   "file_extension": ".py",
   "mimetype": "text/x-python",
   "name": "python",
   "nbconvert_exporter": "python",
   "pygments_lexer": "ipython3",
   "version": "3.9.12"
  },
  "latex_envs": {
   "LaTeX_envs_menu_present": true,
   "autoclose": false,
   "autocomplete": true,
   "bibliofile": "biblio.bib",
   "cite_by": "apalike",
   "current_citInitial": 1,
   "eqLabelWithNumbers": true,
   "eqNumInitial": 1,
   "hotkeys": {
    "equation": "Ctrl-E",
    "itemize": "Ctrl-I"
   },
   "labels_anchors": false,
   "latex_user_defs": false,
   "report_style_numbering": false,
   "user_envs_cfg": false
  },
  "toc": {
   "base_numbering": 1,
   "nav_menu": {},
   "number_sections": true,
   "sideBar": true,
   "skip_h1_title": false,
   "title_cell": "Table of Contents",
   "title_sidebar": "Contents",
   "toc_cell": false,
   "toc_position": {},
   "toc_section_display": true,
   "toc_window_display": false
  },
  "varInspector": {
   "cols": {
    "lenName": 16,
    "lenType": 16,
    "lenVar": 40
   },
   "kernels_config": {
    "python": {
     "delete_cmd_postfix": "",
     "delete_cmd_prefix": "del ",
     "library": "var_list.py",
     "varRefreshCmd": "print(var_dic_list())"
    },
    "r": {
     "delete_cmd_postfix": ") ",
     "delete_cmd_prefix": "rm(",
     "library": "var_list.r",
     "varRefreshCmd": "cat(var_dic_list()) "
    }
   },
   "types_to_exclude": [
    "module",
    "function",
    "builtin_function_or_method",
    "instance",
    "_Feature"
   ],
   "window_display": false
  }
 },
 "nbformat": 4,
 "nbformat_minor": 5
}
