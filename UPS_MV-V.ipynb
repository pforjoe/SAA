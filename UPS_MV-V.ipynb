{
 "cells": [
  {
   "cell_type": "markdown",
   "id": "3230e11d",
   "metadata": {},
   "source": [
    "# UPS MV Framework"
   ]
  },
  {
   "cell_type": "markdown",
   "id": "7a6e78df",
   "metadata": {},
   "source": [
    "### Import Libraries"
   ]
  },
  {
   "cell_type": "code",
   "execution_count": null,
   "id": "176b448c",
   "metadata": {},
   "outputs": [],
   "source": [
    "from AssetAllocation.datamanger import datamanger as dm\n",
    "from AssetAllocation.analytics import summary\n",
    "from AssetAllocation.reporting import reports as rp, plots, formatter as fmt\n",
    "from ipywidgets import interact, interact_manual\n"
   ]
  },
  {
   "cell_type": "markdown",
   "id": "51b6d1ec",
   "metadata": {},
   "source": [
    "### Compute inputs (return, volatility and correlation) for plan"
   ]
  },
  {
   "cell_type": "code",
   "execution_count": null,
   "id": "09b5441a",
   "metadata": {},
   "outputs": [],
   "source": [
    "#get return\n",
    "mv_inputs_dict = dm.get_mv_inputs_data('inputs_test.xlsx')\n",
    "mv_inputs = summary.get_mv_inputs(mv_inputs_dict)\n",
    "#get historical vol and correlation\n",
    "ts_dict = dm.get_ts_data('return_data.xlsx')\n",
    "ts_outputs = summary.get_ts_output(ts_dict)\n",
    "pp_inputs = summary.get_pp_inputs(mv_inputs, ts_dict)"
   ]
  },
  {
   "cell_type": "markdown",
   "id": "f94232b9",
   "metadata": {},
   "source": [
    "### Display plan inputs"
   ]
  },
  {
   "cell_type": "code",
   "execution_count": null,
   "id": "fc9b6455",
   "metadata": {},
   "outputs": [],
   "source": [
    "@interact\n",
    "def display_pp_inputs(inputs=pp_inputs.keys()):\n",
    "    if inputs == 'corr':\n",
    "        return plots.draw_heatmap(pp_inputs[inputs], half=False)\n",
    "    else:\n",
    "        return fmt.get_percent_styler(pp_inputs[inputs])"
   ]
  },
  {
   "cell_type": "markdown",
   "id": "a50f152b",
   "metadata": {},
   "source": [
    "### Create plan object that has the relevant variables (cov, policy ret, var,fsv )"
   ]
  },
  {
   "cell_type": "code",
   "execution_count": null,
   "id": "b2cd123b",
   "metadata": {},
   "outputs": [],
   "source": [
    "plan = summary.get_plan_params(pp_inputs)\n",
    "\n",
    "pp_dict = summary.get_pp_dict(plan)\n",
    "@interact\n",
    "def display_pp_inputs(variable=pp_dict.keys()):\n",
    "    if variable == 'Corr' or variable == 'Cov':\n",
    "        return plots.draw_heatmap(pp_dict[variable], half=False)\n",
    "    else:\n",
    "        return fmt.get_percent_styler(pp_dict[variable])"
   ]
  },
  {
   "cell_type": "markdown",
   "id": "c89358bb",
   "metadata": {},
   "source": [
    "### Define bounds"
   ]
  },
  {
   "cell_type": "code",
   "execution_count": null,
   "id": "5304f9f8",
   "metadata": {},
   "outputs": [],
   "source": [
    "bnds = dm.get_bounds(dm.OUTPUTS_FP+'bounds.xlsx')"
   ]
  },
  {
   "cell_type": "markdown",
   "id": "ae1c654c",
   "metadata": {},
   "source": [
    "### Define contraints to optimize for min and max return"
   ]
  },
  {
   "cell_type": "code",
   "execution_count": null,
   "id": "0bf2fbb8",
   "metadata": {},
   "outputs": [],
   "source": [
    "cons = ({'type': 'ineq', 'fun': lambda x: np.sum(x[1:3]) - 0.5},\n",
    "        {'type': 'eq', 'fun': lambda x: np.sum(x[0:len(plan)-1]) - x[3] - .02})"
   ]
  },
  {
   "cell_type": "markdown",
   "id": "3f5615d4",
   "metadata": {},
   "source": [
    "### Define bounds"
   ]
  },
  {
   "cell_type": "code",
   "execution_count": null,
   "id": "410cd683",
   "metadata": {},
   "outputs": [],
   "source": [
    "# Optimizing for maximum sharpe ratio\n",
    "opt_sharpe = plan.optimize(plan.min_sharpe_ratio, bnds, cons)"
   ]
  },
  {
   "cell_type": "markdown",
   "id": "ef2f3c59",
   "metadata": {},
   "source": [
    "### Compute min return\n"
   ]
  },
  {
   "cell_type": "code",
   "execution_count": null,
   "id": "a2147410",
   "metadata": {},
   "outputs": [],
   "source": [
    "# Optimizing for minimum variance portfolio\n",
    "opt_var = plan.optimize(plan.min_variance,bnds, cons)\n",
    "# set the return as min_ret\n",
    "min_ret = plan.portfolio_stats(opt_var['x'])[0]"
   ]
  },
  {
   "cell_type": "markdown",
   "id": "61d01f62",
   "metadata": {},
   "source": [
    "### Compute max return\n"
   ]
  },
  {
   "cell_type": "code",
   "execution_count": null,
   "id": "0a2545de",
   "metadata": {},
   "outputs": [],
   "source": [
    "# Optimizing for max return portfolio\n",
    "opt_ret = plan.optimize(plan.min_ret,bnds, cons)\n",
    "# set the return as max_ret\n",
    "max_ret = np.around(plan.portfolio_stats(opt_ret['x']),4)[0]"
   ]
  },
  {
   "cell_type": "markdown",
   "id": "51a16733",
   "metadata": {},
   "source": [
    "### Get data for MV Efficient Frontier Portfolios"
   ]
  },
  {
   "cell_type": "code",
   "execution_count": null,
   "id": "25cbfd7a",
   "metadata": {},
   "outputs": [],
   "source": [
    "#Getting data for efficient frontier portfolios\n",
    "target_rets = np.linspace(min_ret,max_ret,100)\n",
    "t_vols = []\n",
    "t_weights = []\n",
    "\n",
    "for tr in target_rets:\n",
    "    \n",
    "    ef_cons = ({'type': 'eq', 'fun': lambda x: plan.portfolio_stats(x)[0] - tr},\n",
    "               {'type': 'ineq', 'fun': lambda x: np.sum(x[1:3]) - 0.5},\n",
    "        {'type': 'eq', 'fun': lambda x: np.sum(x[0:len(plan)-1])-x[3] - .02})\n",
    "    \n",
    "    opt_ef = plan.optimize(plan.min_volatility, bnds, ef_cons)\n",
    "    \n",
    "    t_vols.append(opt_ef['fun'])\n",
    "    t_weights.append(opt_ef['x'])\n",
    "    \n",
    "target_vols = np.array(t_vols)\n",
    "target_weights = np.array(t_weights)\n",
    "optimized_weights = np.transpose(target_weights)"
   ]
  },
  {
   "cell_type": "markdown",
   "id": "97c43cb9",
   "metadata": {},
   "source": [
    "### Display MV Efficient Frontier portfolios"
   ]
  },
  {
   "cell_type": "code",
   "execution_count": null,
   "id": "67403582",
   "metadata": {
    "scrolled": true
   },
   "outputs": [],
   "source": [
    "#Dataframe containing efficient frontier portfolios (return, vol, sharpe and weights)\n",
    "ports_df = dm.get_ports_df(target_rets, target_vols, target_weights, plan.symbols, raw=True)\n",
    "fmt.get_port_styler(ports_df)"
   ]
  },
  {
   "cell_type": "markdown",
   "id": "068a3391",
   "metadata": {},
   "source": [
    "### Display MV Asset Allocation"
   ]
  },
  {
   "cell_type": "code",
   "execution_count": null,
   "id": "86e6641c",
   "metadata": {
    "scrolled": false
   },
   "outputs": [],
   "source": [
    "#Asset Allocation Plot\n",
    "aa_fig = plots.get_aa_fig(100*np.around(ports_df,6))\n",
    "aa_fig.show()"
   ]
  },
  {
   "cell_type": "markdown",
   "id": "3641f370",
   "metadata": {},
   "source": [
    "### Display MV Efficient Frontier"
   ]
  },
  {
   "cell_type": "code",
   "execution_count": null,
   "id": "f5d3b925",
   "metadata": {
    "scrolled": false
   },
   "outputs": [],
   "source": [
    "#Plotly version of the Efficient Frontier plot\n",
    "ef_fig = plots.get_ef_fig(ports_df)\n",
    "ef_fig.show()"
   ]
  },
  {
   "cell_type": "markdown",
   "id": "f26cc045",
   "metadata": {},
   "source": [
    "### Export data to excel"
   ]
  },
  {
   "cell_type": "code",
   "execution_count": null,
   "id": "982d81a0",
   "metadata": {},
   "outputs": [],
   "source": [
    "#Export Efficient Frontier portfoio data to excel\n",
    "rp.get_ef_portfolios_report('ef_portfolios', ports_df,pp_inputs)"
   ]
  },
  {
   "cell_type": "code",
   "execution_count": null,
   "id": "abb87729",
   "metadata": {},
   "outputs": [],
   "source": []
  }
 ],
 "metadata": {
  "kernelspec": {
   "display_name": "Python 3",
   "language": "python",
   "name": "python3"
  },
  "language_info": {
   "codemirror_mode": {
    "name": "ipython",
    "version": 3
   },
   "file_extension": ".py",
   "mimetype": "text/x-python",
   "name": "python",
   "nbconvert_exporter": "python",
   "pygments_lexer": "ipython3",
   "version": "3.7.3"
  },
  "latex_envs": {
   "LaTeX_envs_menu_present": true,
   "autoclose": false,
   "autocomplete": true,
   "bibliofile": "biblio.bib",
   "cite_by": "apalike",
   "current_citInitial": 1,
   "eqLabelWithNumbers": true,
   "eqNumInitial": 1,
   "hotkeys": {
    "equation": "Ctrl-E",
    "itemize": "Ctrl-I"
   },
   "labels_anchors": false,
   "latex_user_defs": false,
   "report_style_numbering": false,
   "user_envs_cfg": false
  },
  "toc": {
   "base_numbering": 1,
   "nav_menu": {},
   "number_sections": true,
   "sideBar": true,
   "skip_h1_title": false,
   "title_cell": "Table of Contents",
   "title_sidebar": "Contents",
   "toc_cell": false,
   "toc_position": {},
   "toc_section_display": true,
   "toc_window_display": false
  },
  "varInspector": {
   "cols": {
    "lenName": 16,
    "lenType": 16,
    "lenVar": 40
   },
   "kernels_config": {
    "python": {
     "delete_cmd_postfix": "",
     "delete_cmd_prefix": "del ",
     "library": "var_list.py",
     "varRefreshCmd": "print(var_dic_list())"
    },
    "r": {
     "delete_cmd_postfix": ") ",
     "delete_cmd_prefix": "rm(",
     "library": "var_list.r",
     "varRefreshCmd": "cat(var_dic_list()) "
    }
   },
   "types_to_exclude": [
    "module",
    "function",
    "builtin_function_or_method",
    "instance",
    "_Feature"
   ],
   "window_display": false
  }
 },
 "nbformat": 4,
 "nbformat_minor": 5
}
